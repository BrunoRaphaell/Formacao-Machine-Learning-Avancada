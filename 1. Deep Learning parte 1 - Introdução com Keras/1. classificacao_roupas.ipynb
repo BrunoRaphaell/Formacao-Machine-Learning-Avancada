{
 "cells": [
  {
   "cell_type": "markdown",
   "metadata": {},
   "source": [
    "# 1. Conhecendo o conjunto de dados\n",
    "\n",
    "[dataset](https://github.com/zalandoresearch/fashion-mnist) que será usado.\n",
    "\n",
    "[THE MNIST DATABASE](http://yann.lecun.com/exdb/mnist/)\n",
    "\n",
    "Bases de dados:\n",
    "\n",
    "- [keras](https://keras.io/api/datasets/)\n",
    "- [kagle](https://keras.io/api/datasets/)\n",
    "\n",
    "![](https://raw.githubusercontent.com/zalandoresearch/fashion-mnist/master/doc/img/fashion-mnist-sprite.png)"
   ]
  },
  {
   "cell_type": "code",
   "execution_count": 1,
   "metadata": {},
   "outputs": [
    {
     "data": {
      "text/plain": [
       "array([[[0, 0, 0, ..., 0, 0, 0],\n",
       "        [0, 0, 0, ..., 0, 0, 0],\n",
       "        [0, 0, 0, ..., 0, 0, 0],\n",
       "        ...,\n",
       "        [0, 0, 0, ..., 0, 0, 0],\n",
       "        [0, 0, 0, ..., 0, 0, 0],\n",
       "        [0, 0, 0, ..., 0, 0, 0]],\n",
       "\n",
       "       [[0, 0, 0, ..., 0, 0, 0],\n",
       "        [0, 0, 0, ..., 0, 0, 0],\n",
       "        [0, 0, 0, ..., 0, 0, 0],\n",
       "        ...,\n",
       "        [0, 0, 0, ..., 0, 0, 0],\n",
       "        [0, 0, 0, ..., 0, 0, 0],\n",
       "        [0, 0, 0, ..., 0, 0, 0]],\n",
       "\n",
       "       [[0, 0, 0, ..., 0, 0, 0],\n",
       "        [0, 0, 0, ..., 0, 0, 0],\n",
       "        [0, 0, 0, ..., 0, 0, 0],\n",
       "        ...,\n",
       "        [0, 0, 0, ..., 0, 0, 0],\n",
       "        [0, 0, 0, ..., 0, 0, 0],\n",
       "        [0, 0, 0, ..., 0, 0, 0]],\n",
       "\n",
       "       ...,\n",
       "\n",
       "       [[0, 0, 0, ..., 0, 0, 0],\n",
       "        [0, 0, 0, ..., 0, 0, 0],\n",
       "        [0, 0, 0, ..., 0, 0, 0],\n",
       "        ...,\n",
       "        [0, 0, 0, ..., 0, 0, 0],\n",
       "        [0, 0, 0, ..., 0, 0, 0],\n",
       "        [0, 0, 0, ..., 0, 0, 0]],\n",
       "\n",
       "       [[0, 0, 0, ..., 0, 0, 0],\n",
       "        [0, 0, 0, ..., 0, 0, 0],\n",
       "        [0, 0, 0, ..., 0, 0, 0],\n",
       "        ...,\n",
       "        [0, 0, 0, ..., 0, 0, 0],\n",
       "        [0, 0, 0, ..., 0, 0, 0],\n",
       "        [0, 0, 0, ..., 0, 0, 0]],\n",
       "\n",
       "       [[0, 0, 0, ..., 0, 0, 0],\n",
       "        [0, 0, 0, ..., 0, 0, 0],\n",
       "        [0, 0, 0, ..., 0, 0, 0],\n",
       "        ...,\n",
       "        [0, 0, 0, ..., 0, 0, 0],\n",
       "        [0, 0, 0, ..., 0, 0, 0],\n",
       "        [0, 0, 0, ..., 0, 0, 0]]], dtype=uint8)"
      ]
     },
     "execution_count": 1,
     "metadata": {},
     "output_type": "execute_result"
    }
   ],
   "source": [
    "import tensorflow\n",
    "from tensorflow import keras\n",
    "import keras\n",
    "\n",
    "dataset = keras.datasets.fashion_mnist\n",
    "((imagens_treino, identificacoes_treino),(imagens_teste, identificacoes_testes)) = dataset.load_data()\n",
    "\n",
    "imagens_treino"
   ]
  },
  {
   "cell_type": "code",
   "execution_count": 2,
   "metadata": {},
   "outputs": [
    {
     "data": {
      "text/plain": [
       "60000"
      ]
     },
     "metadata": {},
     "output_type": "display_data"
    },
    {
     "data": {
      "text/plain": [
       "(60000, 28, 28)"
      ]
     },
     "metadata": {},
     "output_type": "display_data"
    }
   ],
   "source": [
    "display(len(imagens_treino))\n",
    "display(imagens_treino.shape)"
   ]
  },
  {
   "cell_type": "code",
   "execution_count": 3,
   "metadata": {},
   "outputs": [
    {
     "data": {
      "text/plain": [
       "10000"
      ]
     },
     "metadata": {},
     "output_type": "display_data"
    },
    {
     "data": {
      "text/plain": [
       "(10000, 28, 28)"
      ]
     },
     "metadata": {},
     "output_type": "display_data"
    }
   ],
   "source": [
    "display(len(imagens_teste))\n",
    "display(imagens_teste.shape)"
   ]
  },
  {
   "cell_type": "code",
   "execution_count": 4,
   "metadata": {},
   "outputs": [
    {
     "data": {
      "text/plain": [
       "60000"
      ]
     },
     "metadata": {},
     "output_type": "display_data"
    },
    {
     "data": {
      "text/plain": [
       "10000"
      ]
     },
     "metadata": {},
     "output_type": "display_data"
    }
   ],
   "source": [
    "display(len(identificacoes_treino))\n",
    "display(len(identificacoes_testes))"
   ]
  },
  {
   "cell_type": "code",
   "execution_count": 5,
   "metadata": {},
   "outputs": [
    {
     "data": {
      "text/plain": [
       "<matplotlib.image.AxesImage at 0x20758ef2d30>"
      ]
     },
     "execution_count": 5,
     "metadata": {},
     "output_type": "execute_result"
    },
    {
     "data": {
      "image/png": "[encoded data removed]",
      "text/plain": [
       "<Figure size 432x288 with 1 Axes>"
      ]
     },
     "metadata": {
      "needs_background": "light"
     },
     "output_type": "display_data"
    }
   ],
   "source": [
    "# Visualizando uma imagem:\n",
    "\n",
    "import matplotlib.pyplot as plt\n",
    "\n",
    "plt.imshow(imagens_treino[0], cmap='binary')"
   ]
  },
  {
   "cell_type": "markdown",
   "metadata": {},
   "source": [
    "Outras API de deep learning além do Keras:\n",
    "\n",
    "- [Caffe](http://caffe.berkeleyvision.org/) do grupo de pesquisa da universidade de Berkeley,\n",
    "- [Torch](http://torch.ch/) uma implementação usando Lua,\n",
    "- [PyTorch](https://pytorch.org/) uma variação do Torch para Python,\n",
    "- [CNTK](https://www.microsoft.com/en-us/cognitive-toolkit/) da Microsoft,\n",
    "- [DL4J](https://deeplearning4j.org/) uma implementação usando Java,\n",
    "- [MXNet](https://mxnet.incubator.apache.org/)  da Apache."
   ]
  },
  {
   "cell_type": "markdown",
   "metadata": {},
   "source": [
    "# 2. Começando a montar o modelo"
   ]
  },
  {
   "cell_type": "code",
   "execution_count": 6,
   "metadata": {},
   "outputs": [
    {
     "data": {
      "text/plain": [
       "10"
      ]
     },
     "execution_count": 6,
     "metadata": {},
     "output_type": "execute_result"
    }
   ],
   "source": [
    "intervalo = (identificacoes_treino.min(), identificacoes_treino.max())\n",
    "total_de_classificacao = intervalo[1] - intervalo[0] + 1\n",
    "total_de_classificacao"
   ]
  },
  {
   "cell_type": "code",
   "execution_count": 7,
   "metadata": {},
   "outputs": [
    {
     "data": {
      "text/plain": [
       "Text(0.5, 1.0, '9')"
      ]
     },
     "execution_count": 7,
     "metadata": {},
     "output_type": "execute_result"
    },
    {
     "data": {
      "image/png": "[encoded data removed]",
      "text/plain": [
       "<Figure size 432x288 with 1 Axes>"
      ]
     },
     "metadata": {
      "needs_background": "light"
     },
     "output_type": "display_data"
    }
   ],
   "source": [
    "import matplotlib.pyplot as plt\n",
    "\n",
    "plt.imshow(imagens_treino[0], cmap='binary')\n",
    "plt.title(identificacoes_treino[0])"
   ]
  },
  {
   "cell_type": "code",
   "execution_count": 8,
   "metadata": {},
   "outputs": [
    {
     "data": {
      "image/png": "[encoded data removed]",
      "text/plain": [
       "<Figure size 432x288 with 10 Axes>"
      ]
     },
     "metadata": {
      "needs_background": "light"
     },
     "output_type": "display_data"
    }
   ],
   "source": [
    "for imagem in range(total_de_classificacao):\n",
    "    plt.subplot(2, 5, imagem+1)\n",
    "    plt.imshow(imagens_treino[imagem], cmap='binary')\n",
    "    plt.title(identificacoes_treino[imagem])"
   ]
  },
  {
   "cell_type": "markdown",
   "metadata": {},
   "source": [
    "Mas o que significa cada label desses? na documentação no [github](https://github.com/zalandoresearch/fashion-mnist/blob/master/README.md) nos diz o que significa cada um \n",
    "\n",
    "### Labels\n",
    "Each training and test example is assigned to one of the following labels:\n",
    "\n",
    "| Label | Description |\n",
    "| --- | --- |\n",
    "| 0 | T-shirt/top |\n",
    "| 1 | Trouser |\n",
    "| 2 | Pullover |\n",
    "| 3 | Dress |\n",
    "| 4 | Coat |\n",
    "| 5 | Sandal |\n",
    "| 6 | Shirt |\n",
    "| 7 | Sneaker |\n",
    "| 8 | Bag |\n",
    "| 9 | Ankle boot |"
   ]
  },
  {
   "cell_type": "code",
   "execution_count": 9,
   "metadata": {},
   "outputs": [
    {
     "data": {
      "text/plain": [
       "<matplotlib.colorbar.Colorbar at 0x2075b3686d0>"
      ]
     },
     "execution_count": 9,
     "metadata": {},
     "output_type": "execute_result"
    },
    {
     "data": {
      "image/png": "[encoded data removed]",
      "text/plain": [
       "<Figure size 432x288 with 2 Axes>"
      ]
     },
     "metadata": {
      "needs_background": "light"
     },
     "output_type": "display_data"
    }
   ],
   "source": [
    "nomes_de_classificacao = ['Camiseta', 'Calça', 'Pullover', 'Vestido', 'Casaco',\n",
    "                          'Sandalha', 'Camisa', 'Tênis', 'Bolsa', 'Bota']\n",
    "\n",
    "# for imagem in range(total_de_classificacao):\n",
    "#     plt.subplot(2, 5, imagem+1)\n",
    "#     plt.imshow(imagens_treino[imagem], cmap='binary')\n",
    "#     plt.title(nomes_de_classificacao[identificacoes_treino[imagem]])\n",
    "    \n",
    "plt.imshow(imagens_treino[0], cmap='binary')\n",
    "plt.colorbar()\n"
   ]
  },
  {
   "cell_type": "code",
   "execution_count": 10,
   "metadata": {},
   "outputs": [],
   "source": [
    "modelo = keras.Sequential([keras.layers.Flatten(input_shape=(28, 28))]) "
   ]
  },
  {
   "cell_type": "markdown",
   "metadata": {},
   "source": [
    "[código](http://scipy-lectures.org/advanced/image_processing/) para pré processamento de imagens.\n",
    "\n",
    "# 3. Adicionando camadas ocultas\n",
    "\n",
    "## Adicionando a camada 1:"
   ]
  },
  {
   "cell_type": "code",
   "execution_count": 11,
   "metadata": {},
   "outputs": [],
   "source": [
    "modelo = keras.Sequential(\n",
    "    [\n",
    "        keras.layers.Flatten(input_shape=(28, 28)),\n",
    "        keras.layers.Dense(256, activation=tensorflow.nn.relu),\n",
    "        keras.layers.Dense(10, activation=tensorflow.nn.softmax)\n",
    "    ]\n",
    ") \n",
    "\n",
    "# modelo.fit(imagens_treino, identificacoes_treino)"
   ]
  },
  {
   "cell_type": "markdown",
   "metadata": {},
   "source": [
    "# 4. Ensinando o modelo"
   ]
  },
  {
   "cell_type": "code",
   "execution_count": 12,
   "metadata": {},
   "outputs": [
    {
     "name": "stdout",
     "output_type": "stream",
     "text": [
      "1875/1875 [==============================] - 5s 2ms/step - loss: 3.8704\n"
     ]
    },
    {
     "data": {
      "text/plain": [
       "<keras.callbacks.History at 0x2075e499f10>"
      ]
     },
     "execution_count": 12,
     "metadata": {},
     "output_type": "execute_result"
    }
   ],
   "source": [
    "# Normalizando as imagens:\n",
    "# imagens_treino = imagens_treino/float(255)\n",
    "\n",
    "modelo = keras.Sequential(\n",
    "    [\n",
    "        keras.layers.Flatten(input_shape=(28, 28)),\n",
    "        keras.layers.Dense(256, activation=tensorflow.nn.relu),\n",
    "        keras.layers.Dense(10, activation=tensorflow.nn.softmax)\n",
    "    ]\n",
    ") \n",
    "\n",
    "modelo.compile(optimizer='adam', loss='sparse_categorical_crossentropy')\n",
    "modelo.fit(imagens_treino, identificacoes_treino)"
   ]
  },
  {
   "cell_type": "markdown",
   "metadata": {},
   "source": [
    "Camada oculta: Porque temos uma ideia do que pode estar acontecendo, mas não temos certeza absoluta de como está sendo este processamento. O máximo a que chegamos de visualizar o que pode estar acontecendo é saber que cada vez mais estas camadas adicionais irão agrupando mais características das nossas imagens, então elas começam com menos, e vão agrupando mais."
   ]
  },
  {
   "cell_type": "markdown",
   "metadata": {},
   "source": [
    "x - media / desvio padrao"
   ]
  },
  {
   "cell_type": "code",
   "execution_count": 13,
   "metadata": {},
   "outputs": [],
   "source": [
    "import numpy as np\n",
    "\n",
    "media = np.mean(imagens_treino)\n",
    "std = np.std(imagens_treino)\n",
    "\n",
    "imagens_treino_normalizados = (imagens_treino - media)/std"
   ]
  },
  {
   "cell_type": "code",
   "execution_count": 14,
   "metadata": {},
   "outputs": [
    {
     "data": {
      "text/plain": [
       "97.25382653061224"
      ]
     },
     "execution_count": 14,
     "metadata": {},
     "output_type": "execute_result"
    }
   ],
   "source": [
    "imagens_treino[0].mean()"
   ]
  },
  {
   "cell_type": "code",
   "execution_count": 15,
   "metadata": {},
   "outputs": [
    {
     "data": {
      "text/plain": [
       "72.94035223214286"
      ]
     },
     "execution_count": 15,
     "metadata": {},
     "output_type": "execute_result"
    }
   ],
   "source": [
    "media"
   ]
  },
  {
   "cell_type": "code",
   "execution_count": 16,
   "metadata": {},
   "outputs": [
    {
     "data": {
      "text/plain": [
       "90.02118235130519"
      ]
     },
     "execution_count": 16,
     "metadata": {},
     "output_type": "execute_result"
    }
   ],
   "source": [
    "std"
   ]
  },
  {
   "cell_type": "code",
   "execution_count": 17,
   "metadata": {},
   "outputs": [
    {
     "data": {
      "text/plain": [
       "3"
      ]
     },
     "execution_count": 17,
     "metadata": {},
     "output_type": "execute_result"
    }
   ],
   "source": [
    "imagens_treino.ndim"
   ]
  },
  {
   "cell_type": "code",
   "execution_count": 22,
   "metadata": {},
   "outputs": [
    {
     "name": "stdout",
     "output_type": "stream",
     "text": [
      "1875/1875 [==============================] - 7s 4ms/step - loss: 0.4625\n"
     ]
    },
    {
     "data": {
      "text/plain": [
       "<keras.callbacks.History at 0x2075b22a310>"
      ]
     },
     "execution_count": 22,
     "metadata": {},
     "output_type": "execute_result"
    }
   ],
   "source": [
    "# melhorando a segunda camada.\n",
    "\n",
    "# Normalização:\n",
    "\n",
    "# imagens_treino = imagens_treino/float(255)\n",
    "\n",
    "modelo = keras.Sequential(\n",
    "    [\n",
    "        keras.layers.Flatten(input_shape=(28, 28)),\n",
    "        keras.layers.Dense(256, activation=tensorflow.nn.relu),  # Camada oculta\n",
    "        keras.layers.Dense(128, activation=tensorflow.nn.relu),  # Camada oculta\n",
    "        keras.layers.Dense(64, activation=tensorflow.nn.relu),  # Camada oculta\n",
    "        keras.layers.Dense(10, activation=tensorflow.nn.softmax)\n",
    "    ]\n",
    ") \n",
    "\n",
    "modelo.compile(optimizer='adam', loss='sparse_categorical_crossentropy')\n",
    "modelo.fit(imagens_treino_normalizados, identificacoes_treino)"
   ]
  },
  {
   "cell_type": "markdown",
   "metadata": {},
   "source": [
    "# 5. Sabendo como medir o resultado do **modelo**\n",
    "\n",
    "OBS: Os dados de testes também deveriam ser normalizados. Ver os seguintes links:\n",
    "\n",
    "- [Alura](https://cursos.alura.com.br/forum/topico-imagens_treino-255-duvida-113920)\n",
    "- [StackExchange](https://datascience.stackexchange.com/questions/27615/should-we-apply-normalization-to-test-data-as-well)\n",
    "- [Google](https://cloud.google.com/architecture/data-preprocessing-for-ml-with-tf-transform-pt1?hl=pt-br)\n",
    "\n",
    "Por que a perda não diminuiu? \n",
    "\n",
    "Este é um detalhe do próprio Notebook que estamos usando; há mecanismos por baixo dele, que faz toda a execução, ou Runtime em inglês, que vai guardando o estado, ou números de variáveis que estão rodando por debaixo dos panos em nosso modelo, pois quando ele erra algo, ele tem umas variáveis aleatórias por detrás dele, que vão mudando de acordo com o que ele vai aprendendo. Logo para resolver isso basta reiniciar o kernel."
   ]
  },
  {
   "cell_type": "code",
   "execution_count": 14,
   "metadata": {},
   "outputs": [
    {
     "name": "stdout",
     "output_type": "stream",
     "text": [
      "Epoch 1/5\n",
      "1875/1875 [==============================] - 36s 19ms/step - loss: 2.3027 - accuracy: 0.0990\n",
      "Epoch 2/5\n",
      "1875/1875 [==============================] - 32s 17ms/step - loss: 2.3003 - accuracy: 0.1114\n",
      "Epoch 3/5\n",
      "1875/1875 [==============================] - 34s 18ms/step - loss: 2.2880 - accuracy: 0.1661\n",
      "Epoch 4/5\n",
      "1875/1875 [==============================] - 38s 20ms/step - loss: 2.2579 - accuracy: 0.2304\n",
      "Epoch 5/5\n",
      "1875/1875 [==============================] - 39s 21ms/step - loss: 2.2098 - accuracy: 0.2318\n"
     ]
    },
    {
     "data": {
      "text/plain": [
       "<tensorflow.python.keras.callbacks.History at 0x7fb391b3d4c0>"
      ]
     },
     "execution_count": 14,
     "metadata": {},
     "output_type": "execute_result"
    }
   ],
   "source": [
    "# melhorando a segunda camada.\n",
    "\n",
    "# Normalização:\n",
    "imagens_treino = imagens_treino/float(255)\n",
    "\n",
    "modelo = keras.Sequential(\n",
    "    [\n",
    "        keras.layers.Flatten(input_shape=(28, 28)),\n",
    "        keras.layers.Dense(256, activation=tensorflow.nn.relu),  # Camada oculta\n",
    "        keras.layers.Dense(10, activation=tensorflow.nn.softmax)\n",
    "    ]\n",
    ") \n",
    "\n",
    "modelo.compile(optimizer='adam', loss='sparse_categorical_crossentropy', metrics=['accuracy'])\n",
    "modelo.fit(imagens_treino, identificacoes_treino, epochs=5)"
   ]
  },
  {
   "cell_type": "code",
   "execution_count": 15,
   "metadata": {},
   "outputs": [
    {
     "name": "stdout",
     "output_type": "stream",
     "text": [
      "Resultado: 0\n",
      "Número da imagem de teste: 1\n"
     ]
    }
   ],
   "source": [
    "# Realizando os predict\n",
    "\n",
    "import numpy as np\n",
    "\n",
    "testes = modelo.predict(imagens_teste)\n",
    "print(f\"Resultado: {np.argmax(testes[2])}\")\n",
    "print(f\"Número da imagem de teste: {identificacoes_testes[2]}\")"
   ]
  },
  {
   "cell_type": "code",
   "execution_count": 16,
   "metadata": {},
   "outputs": [
    {
     "name": "stdout",
     "output_type": "stream",
     "text": [
      "313/313 [==============================] - 1s 3ms/step - loss: 764469.5625 - accuracy: 0.1654\n"
     ]
    },
    {
     "data": {
      "text/plain": [
       "[764469.5625, 0.16539999842643738]"
      ]
     },
     "execution_count": 16,
     "metadata": {},
     "output_type": "execute_result"
    }
   ],
   "source": [
    "modelo.evaluate(imagens_teste, identificacoes_testes)"
   ]
  },
  {
   "cell_type": "markdown",
   "metadata": {},
   "source": [
    "A primeira posição que temos é a perda do nosso teste, e a segunda é a acurácia do mesmo"
   ]
  },
  {
   "cell_type": "code",
   "execution_count": 17,
   "metadata": {},
   "outputs": [
    {
     "name": "stdout",
     "output_type": "stream",
     "text": [
      "313/313 [==============================] - 1s 3ms/step - loss: 764469.5625 - accuracy: 0.1654\n",
      "perda_teste: 764469.5625 \n",
      "Acurácia do teste: 0.16539999842643738\n"
     ]
    }
   ],
   "source": [
    "perda_teste, acuracia_teste = modelo.evaluate(imagens_teste, identificacoes_testes)\n",
    "print(f\"perda_teste: {perda_teste} \")\n",
    "print(f\"Acurácia do teste: {acuracia_teste}\")\n"
   ]
  },
  {
   "cell_type": "code",
   "execution_count": 18,
   "metadata": {},
   "outputs": [
    {
     "name": "stdout",
     "output_type": "stream",
     "text": [
      "Epoch 1/5\n",
      "1500/1500 [==============================] - 18s 11ms/step - loss: 2.3028 - accuracy: 0.1007 - val_loss: 2.3027 - val_accuracy: 0.0995\n",
      "Epoch 2/5\n",
      "1500/1500 [==============================] - 16s 11ms/step - loss: 2.3028 - accuracy: 0.0956 - val_loss: 2.3028 - val_accuracy: 0.0957\n",
      "Epoch 3/5\n",
      "1500/1500 [==============================] - 18s 12ms/step - loss: 2.3027 - accuracy: 0.1001 - val_loss: 2.3028 - val_accuracy: 0.0983\n",
      "Epoch 4/5\n",
      "1500/1500 [==============================] - 16s 11ms/step - loss: 2.3027 - accuracy: 0.0999 - val_loss: 2.3027 - val_accuracy: 0.0957\n",
      "Epoch 5/5\n",
      "1500/1500 [==============================] - 15s 10ms/step - loss: 2.3027 - accuracy: 0.1029 - val_loss: 2.3026 - val_accuracy: 0.0983\n"
     ]
    },
    {
     "data": {
      "text/plain": [
       "<tensorflow.python.keras.callbacks.History at 0x7fb3884ac5e0>"
      ]
     },
     "execution_count": 18,
     "metadata": {},
     "output_type": "execute_result"
    }
   ],
   "source": [
    "# Adicionando dados para validação:\n",
    "\n",
    "modelo = keras.Sequential(\n",
    "    [\n",
    "        keras.layers.Flatten(input_shape=(28, 28)),\n",
    "        keras.layers.Dense(256, activation=tensorflow.nn.relu),  # Camada oculta\n",
    "        keras.layers.Dense(10, activation=tensorflow.nn.softmax)\n",
    "    ]\n",
    ") \n",
    "\n",
    "modelo.compile(optimizer='adam', loss='sparse_categorical_crossentropy', metrics=['accuracy'])\n",
    "modelo.fit(imagens_treino, identificacoes_treino, epochs=5, validation_split=0.2)\n"
   ]
  },
  {
   "cell_type": "markdown",
   "metadata": {},
   "source": [
    "Mas vejam que surgiram o val_loss e val_acc, o que será que eles são?\n",
    "\n",
    "# 6. Ajustando e salvando o modelo\n",
    "\n",
    "Para conseguirmos enxergar isso de maneira um pouco mais legal, pois aqui fica difícil entendermos se estamos indo bem ou mal, o que temos que ajustar ou não, podemos deixar tudo isso em um gráfico"
   ]
  },
  {
   "cell_type": "code",
   "execution_count": 19,
   "metadata": {},
   "outputs": [
    {
     "name": "stdout",
     "output_type": "stream",
     "text": [
      "Epoch 1/5\n",
      "1500/1500 [==============================] - 14s 9ms/step - loss: 2.3028 - accuracy: 0.0970 - val_loss: 2.3027 - val_accuracy: 0.0983\n",
      "Epoch 2/5\n",
      "1500/1500 [==============================] - 12s 8ms/step - loss: 2.3026 - accuracy: 0.1020 - val_loss: 2.3017 - val_accuracy: 0.0957\n",
      "Epoch 3/5\n",
      "1500/1500 [==============================] - 17s 11ms/step - loss: 2.3012 - accuracy: 0.1197 - val_loss: 2.2987 - val_accuracy: 0.1712\n",
      "Epoch 4/5\n",
      "1500/1500 [==============================] - 18s 12ms/step - loss: 2.2972 - accuracy: 0.1526 - val_loss: 2.2920 - val_accuracy: 0.1003\n",
      "Epoch 5/5\n",
      "1500/1500 [==============================] - 16s 11ms/step - loss: 2.2898 - accuracy: 0.1567 - val_loss: 2.2820 - val_accuracy: 0.1961\n"
     ]
    }
   ],
   "source": [
    "# Adicionando dados para validação:\n",
    "\n",
    "modelo = keras.Sequential(\n",
    "    [\n",
    "        keras.layers.Flatten(input_shape=(28, 28)),\n",
    "        keras.layers.Dense(256, activation=tensorflow.nn.relu),  # Camada oculta\n",
    "        keras.layers.Dense(10, activation=tensorflow.nn.softmax)\n",
    "    ]\n",
    ") \n",
    "\n",
    "modelo.compile(optimizer='adam', loss='sparse_categorical_crossentropy', metrics=['accuracy'])\n",
    "historico = modelo.fit(imagens_treino, identificacoes_treino, epochs=5, validation_split=0.2)\n"
   ]
  },
  {
   "cell_type": "code",
   "execution_count": 20,
   "metadata": {},
   "outputs": [
    {
     "data": {
      "image/png": "[encoded data removed]",
      "text/plain": [
       "<Figure size 432x288 with 1 Axes>"
      ]
     },
     "metadata": {
      "needs_background": "light"
     },
     "output_type": "display_data"
    }
   ],
   "source": [
    "# Gráfico de acurácia\n",
    "\n",
    "plt.plot(historico.history['accuracy'])\n",
    "plt.plot(historico.history['val_accuracy'])\n",
    "plt.title('Acurácia por época')\n",
    "plt.xlabel('Épocas')\n",
    "plt.ylabel('Acurácia')\n",
    "plt.legend(['Treino', 'Validação'], loc='lower right')\n",
    "plt.show()"
   ]
  },
  {
   "cell_type": "code",
   "execution_count": 21,
   "metadata": {},
   "outputs": [
    {
     "data": {
      "image/png": "[encoded data removed]",
      "text/plain": [
       "<Figure size 432x288 with 1 Axes>"
      ]
     },
     "metadata": {
      "needs_background": "light"
     },
     "output_type": "display_data"
    }
   ],
   "source": [
    "# Gráfico de perda\n",
    "\n",
    "plt.plot(historico.history['loss'])\n",
    "plt.plot(historico.history['val_loss'])\n",
    "plt.title('Perda por época')\n",
    "plt.xlabel('Épocas')\n",
    "plt.ylabel('Perda')\n",
    "plt.legend(['Treino', 'Validação'], loc='lower right')\n",
    "plt.show()"
   ]
  },
  {
   "cell_type": "code",
   "execution_count": 22,
   "metadata": {},
   "outputs": [
    {
     "name": "stdout",
     "output_type": "stream",
     "text": [
      "Epoch 1/10\n",
      "1500/1500 [==============================] - 23s 15ms/step - loss: 2.3028 - accuracy: 0.1017 - val_loss: 2.3025 - val_accuracy: 0.0957\n",
      "Epoch 2/10\n",
      "1500/1500 [==============================] - 12s 8ms/step - loss: 2.3020 - accuracy: 0.1073 - val_loss: 2.3006 - val_accuracy: 0.1618\n",
      "Epoch 3/10\n",
      "1500/1500 [==============================] - 17s 11ms/step - loss: 2.2996 - accuracy: 0.1430 - val_loss: 2.2951 - val_accuracy: 0.1759\n",
      "Epoch 4/10\n",
      "1500/1500 [==============================] - 13s 9ms/step - loss: 2.2925 - accuracy: 0.1675 - val_loss: 2.2834 - val_accuracy: 0.2718\n",
      "Epoch 5/10\n",
      "1500/1500 [==============================] - 13s 9ms/step - loss: 2.2796 - accuracy: 0.2092 - val_loss: 2.2663 - val_accuracy: 0.1661\n",
      "Epoch 6/10\n",
      "1500/1500 [==============================] - 16s 11ms/step - loss: 2.2608 - accuracy: 0.2196 - val_loss: 2.2430 - val_accuracy: 0.1943\n",
      "Epoch 7/10\n",
      "1500/1500 [==============================] - 14s 9ms/step - loss: 2.2372 - accuracy: 0.2521 - val_loss: 2.2164 - val_accuracy: 0.2813\n",
      "Epoch 8/10\n",
      "1500/1500 [==============================] - 12s 8ms/step - loss: 2.2096 - accuracy: 0.2618 - val_loss: 2.1873 - val_accuracy: 0.2262\n",
      "Epoch 9/10\n",
      "1500/1500 [==============================] - 12s 8ms/step - loss: 2.1800 - accuracy: 0.2577 - val_loss: 2.1558 - val_accuracy: 0.2499\n",
      "Epoch 10/10\n",
      "1500/1500 [==============================] - 16s 11ms/step - loss: 2.1479 - accuracy: 0.2619 - val_loss: 2.1230 - val_accuracy: 0.2677\n"
     ]
    }
   ],
   "source": [
    "# Aumentando o número de épocas\n",
    "\n",
    "modelo = keras.Sequential(\n",
    "    [\n",
    "        keras.layers.Flatten(input_shape=(28, 28)),\n",
    "        keras.layers.Dense(256, activation=tensorflow.nn.relu),  # Camada oculta\n",
    "        keras.layers.Dense(10, activation=tensorflow.nn.softmax)\n",
    "    ]\n",
    ") \n",
    "\n",
    "modelo.compile(optimizer='adam', loss='sparse_categorical_crossentropy', metrics=['accuracy'])\n",
    "historico = modelo.fit(imagens_treino, identificacoes_treino, epochs=10, validation_split=0.2)\n"
   ]
  },
  {
   "cell_type": "code",
   "execution_count": 23,
   "metadata": {},
   "outputs": [
    {
     "data": {
      "image/png": "[encoded data removed]",
      "text/plain": [
       "<Figure size 432x288 with 1 Axes>"
      ]
     },
     "metadata": {
      "needs_background": "light"
     },
     "output_type": "display_data"
    },
    {
     "data": {
      "image/png": "[encoded data removed]",
      "text/plain": [
       "<Figure size 432x288 with 1 Axes>"
      ]
     },
     "metadata": {
      "needs_background": "light"
     },
     "output_type": "display_data"
    }
   ],
   "source": [
    "# Gráfico de acurácia\n",
    "\n",
    "plt.plot(historico.history['accuracy'])\n",
    "plt.plot(historico.history['val_accuracy'])\n",
    "plt.title('Acurácia por época')\n",
    "plt.xlabel('Épocas')\n",
    "plt.ylabel('Acurácia')\n",
    "plt.legend(['Treino', 'Validação'], loc='lower right')\n",
    "plt.show()\n",
    "\n",
    "# Gráfico de perda\n",
    "\n",
    "plt.plot(historico.history['loss'])\n",
    "plt.plot(historico.history['val_loss'])\n",
    "plt.title('Perda por época')\n",
    "plt.xlabel('Épocas')\n",
    "plt.ylabel('Perda')\n",
    "plt.legend(['Treino', 'Validação'], loc='lower right')\n",
    "plt.show()"
   ]
  },
  {
   "cell_type": "code",
   "execution_count": 24,
   "metadata": {},
   "outputs": [
    {
     "name": "stdout",
     "output_type": "stream",
     "text": [
      "Epoch 1/5\n",
      "1500/1500 [==============================] - 14s 9ms/step - loss: 2.3027 - accuracy: 0.0993 - val_loss: 2.3025 - val_accuracy: 0.0983\n",
      "Epoch 2/5\n",
      "1500/1500 [==============================] - 17s 12ms/step - loss: 2.3024 - accuracy: 0.1027 - val_loss: 2.3008 - val_accuracy: 0.1005\n",
      "Epoch 3/5\n",
      "1500/1500 [==============================] - 14s 9ms/step - loss: 2.3003 - accuracy: 0.1132 - val_loss: 2.2963 - val_accuracy: 0.2097\n",
      "Epoch 4/5\n",
      "1500/1500 [==============================] - 16s 11ms/step - loss: 2.2943 - accuracy: 0.1437 - val_loss: 2.2857 - val_accuracy: 0.3254\n",
      "Epoch 5/5\n",
      "1500/1500 [==============================] - 14s 9ms/step - loss: 2.2825 - accuracy: 0.2001 - val_loss: 2.2680 - val_accuracy: 0.2171\n"
     ]
    }
   ],
   "source": [
    "# Vamos deixar as épocaso onde parece está mais estável. \n",
    "# Adicionando um Dropout para reduzir o overfitting e fazer nossos neurônios adormecerem um pouco.\n",
    "\n",
    "modelo = keras.Sequential(\n",
    "    [\n",
    "        keras.layers.Flatten(input_shape=(28, 28)),\n",
    "        keras.layers.Dense(256, activation=tensorflow.nn.relu),  # Camada oculta\n",
    "        keras.layers.Dropout(0.2),\n",
    "        keras.layers.Dense(10, activation=tensorflow.nn.softmax)\n",
    "    ]\n",
    ") \n",
    "\n",
    "modelo.compile(optimizer='adam', loss='sparse_categorical_crossentropy', metrics=['accuracy'])\n",
    "historico = modelo.fit(imagens_treino, identificacoes_treino, epochs=5, validation_split=0.2)"
   ]
  },
  {
   "cell_type": "code",
   "execution_count": 25,
   "metadata": {},
   "outputs": [
    {
     "data": {
      "image/png": "[encoded data removed]",
      "text/plain": [
       "<Figure size 432x288 with 1 Axes>"
      ]
     },
     "metadata": {
      "needs_background": "light"
     },
     "output_type": "display_data"
    },
    {
     "data": {
      "image/png": "[encoded data removed]",
      "text/plain": [
       "<Figure size 432x288 with 1 Axes>"
      ]
     },
     "metadata": {
      "needs_background": "light"
     },
     "output_type": "display_data"
    }
   ],
   "source": [
    "# Gráfico de acurácia\n",
    "\n",
    "plt.plot(historico.history['accuracy'])\n",
    "plt.plot(historico.history['val_accuracy'])\n",
    "plt.title('Acurácia por época')\n",
    "plt.xlabel('Épocas')\n",
    "plt.ylabel('Acurácia')\n",
    "plt.legend(['Treino', 'Validação'], loc='lower right')\n",
    "plt.show()\n",
    "\n",
    "# Gráfico de perda\n",
    "\n",
    "plt.plot(historico.history['loss'])\n",
    "plt.plot(historico.history['val_loss'])\n",
    "plt.title('Perda por época')\n",
    "plt.xlabel('Épocas')\n",
    "plt.ylabel('Perda')\n",
    "plt.legend(['Treino', 'Validação'], loc='lower right')\n",
    "plt.show()\n"
   ]
  },
  {
   "cell_type": "code",
   "execution_count": 26,
   "metadata": {},
   "outputs": [],
   "source": [
    "modelo.save('modelo.h5')\n",
    "modelo_salvo = keras.models.load_model('modelo.h5')"
   ]
  },
  {
   "cell_type": "code",
   "execution_count": 27,
   "metadata": {},
   "outputs": [
    {
     "name": "stdout",
     "output_type": "stream",
     "text": [
      "Resultado: 4\n",
      "Número da imagem de teste: 2\n",
      "Resultado modelo salvo: 4\n",
      "Número da imagem de teste: 2\n"
     ]
    }
   ],
   "source": [
    "# Realizando os predict com o modelo salvo\n",
    "\n",
    "import numpy as np\n",
    "\n",
    "testes = modelo.predict(imagens_teste)\n",
    "print(f\"Resultado: {np.argmax(testes[1])}\")\n",
    "print(f\"Número da imagem de teste: {identificacoes_testes[1]}\")\n",
    "\n",
    "testes_modelo_salvo = modelo_salvo.predict(imagens_teste)\n",
    "print(f\"Resultado modelo salvo: {np.argmax(testes_modelo_salvo[1])}\")\n",
    "print(f\"Número da imagem de teste: {identificacoes_testes[1]}\")"
   ]
  },
  {
   "cell_type": "markdown",
   "metadata": {},
   "source": [
    "# 7. Revisando conceitos chave\n"
   ]
  },
  {
   "cell_type": "code",
   "execution_count": null,
   "metadata": {},
   "outputs": [],
   "source": []
  }
 ],
 "metadata": {
  "interpreter": {
   "hash": "bf557167d0e1f62200bd038d8f03414d51ce69206a74f3521268fd330d8e9f72"
  },
  "kernelspec": {
   "display_name": "Python 3.8.12 64-bit ('ambiente': conda)",
   "language": "python",
   "name": "python3"
  },
  "language_info": {
   "codemirror_mode": {
    "name": "ipython",
    "version": 3
   },
   "file_extension": ".py",
   "mimetype": "text/x-python",
   "name": "python",
   "nbconvert_exporter": "python",
   "pygments_lexer": "ipython3",
   "version": "3.8.12"
  },
  "orig_nbformat": 4
 },
 "nbformat": 4,
 "nbformat_minor": 2
}
