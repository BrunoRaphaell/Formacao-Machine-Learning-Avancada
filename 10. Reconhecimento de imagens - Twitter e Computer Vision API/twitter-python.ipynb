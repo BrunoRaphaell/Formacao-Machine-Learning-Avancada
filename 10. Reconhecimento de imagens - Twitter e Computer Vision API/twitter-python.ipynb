{
 "cells": [
  {
   "cell_type": "markdown",
   "metadata": {},
   "source": [
    "## 01. Criando App no Twitter "
   ]
  },
  {
   "cell_type": "markdown",
   "metadata": {},
   "source": [
    "Alguns dos endpoints mais famosos da Twitter API\n",
    "\n",
    "* Search API\n",
    "\t* Pesquisar histórico de tweets sobre um determinado tema.\n",
    "* Ads API\n",
    "\t* Acesso a contas de anunciantes. Pode ser usada para integrar soluções como: promover tweets ou contas, agendamento de campanhas, análise de performance, etc.\n",
    "* Engagement API\n",
    "\t* Acesso a dados sobre impressões e engajamento orgânico, assim como assim Favoritos, Retweets, e Replies para qualquer tweet público.\n",
    "* Direct Message API\n",
    "\t* Desenvolvimento de experiências de usuários customizadas, com endpoints que permitem começar uma conversa, publicar mensagens, enviar fotos ou vídeo, etc. \n",
    "* Account Activity API\n",
    "\t* Receber informações em tempo real sobre atividades em uma conta, como menções, replies, blocks, etc.\n",
    "* Embed a Tweet\n",
    "\t* Possibilidade de embedar tweets no seu próprio site.\n",
    " \n",
    "Todos os detalhes estão disponíveis na [documentação](https://developer.twitter.com/en/docs \"documentação\").\n",
    "\n",
    "\n",
    "### Meus tokens: alura-python-twiiter-bruno\n",
    "<center>\n",
    "\n",
    "| Tipo | Key |\n",
    "|:-:|:-:|\n",
    "| API Key | XefXcPZ3mDpNWjubsGUptZ0es |\n",
    "| API Key Secret | obblQTUFZonruNKbMKrVXBkfAoARJ6T2LVJeZK5cPuOSYweZo1 |\n",
    "| Bearer Token | AAAAAAAAAAAAAAAAAAAAAHyDZgEAAAAAsbWqI75dfl0oLw%2BpH%2BgiF3zZLpE%3DjcPLOoTODCHVRce5lr78B81xRKKMjwwu2sgVdK4qmzFvepkTxa |\n",
    "| Client Secret | 1baa4zngZ3jFQpGNdFKQrJ8bLBwVMgmxRGmEpBqwec80P1dsnC |\n",
    "| Access Token | 1938224406-CtO0cuiKe2o2ThgqnvwxNbNuXTDtPkATdrBtMuQ |\n",
    "| Access Token Secret | Kdv2iu4zLQ8vAUxSMozgZDtCm29w3hUfoJ8L4nRzaaB9c |\n",
    "\n",
    "</center>\n",
    "\n",
    "[Documentação Tweepy](https://docs.tweepy.org/en/stable/)\n",
    "\n",
    "[Authentication Tutorial](https://docs.tweepy.org/en/v3.5.0/auth_tutorial.html)"
   ]
  },
  {
   "cell_type": "code",
   "execution_count": 1,
   "metadata": {},
   "outputs": [],
   "source": [
    "import tweepy as tw\n",
    "from tweepy.auth import OAuthHandler"
   ]
  },
  {
   "cell_type": "code",
   "execution_count": 2,
   "metadata": {},
   "outputs": [],
   "source": [
    "consumer_key = 'XefXcPZ3mDpNWjubsGUptZ0es'\n",
    "consumer_secret = 'obblQTUFZonruNKbMKrVXBkfAoARJ6T2LVJeZK5cPuOSYweZo1'\n",
    "access_token = '1938224406-CtO0cuiKe2o2ThgqnvwxNbNuXTDtPkATdrBtMuQ'\n",
    "access_token_secret = 'Kdv2iu4zLQ8vAUxSMozgZDtCm29w3hUfoJ8L4nRzaaB9c'"
   ]
  },
  {
   "cell_type": "code",
   "execution_count": 3,
   "metadata": {},
   "outputs": [],
   "source": [
    "auth = tw.OAuthHandler(consumer_key, consumer_secret)"
   ]
  },
  {
   "cell_type": "code",
   "execution_count": 4,
   "metadata": {},
   "outputs": [],
   "source": [
    "auth.set_access_token(access_token, access_token_secret)"
   ]
  },
  {
   "cell_type": "code",
   "execution_count": 5,
   "metadata": {},
   "outputs": [],
   "source": [
    "api = tw.API(auth)"
   ]
  },
  {
   "cell_type": "code",
   "execution_count": 6,
   "metadata": {},
   "outputs": [],
   "source": [
    "# tweet = api.update_status('asd')"
   ]
  },
  {
   "cell_type": "code",
   "execution_count": 7,
   "metadata": {},
   "outputs": [],
   "source": [
    "# tweet._json"
   ]
  },
  {
   "cell_type": "markdown",
   "metadata": {},
   "source": [
    "## 02. Usando o Twitter no Python"
   ]
  },
  {
   "cell_type": "markdown",
   "metadata": {},
   "source": [
    "### Pesquisando Tweets"
   ]
  },
  {
   "cell_type": "code",
   "execution_count": 8,
   "metadata": {},
   "outputs": [
    {
     "name": "stdout",
     "output_type": "stream",
     "text": [
      "@well5lc @PythonbotBr to assim tbm, acho que vou focar pra IA achei data science meio maçante\n",
      "RT @canhotadestrado: engenheiro eletricista formado na unicamp, trabalho com formação de preços no setor elétrico há 11 anos. usuário de vb…\n",
      "engenheiro eletricista formado na unicamp, trabalho com formação de preços no setor elétrico há 11 anos. usuário de… https://t.co/0qwBDUPhFb\n",
      "@AlissonMMenezes @heboechat @hschmaiske olha ele, menino data science\n",
      "Eu sou do tipo que só crio um repositório no github quando o código está pronto. Então não tenho aqueles quadradinh… https://t.co/adNfSI6ivg\n",
      "@Knight_XDS @sseraphini Eu mexo com python para Data Science e faço libs dela pra usar internamente na empresa. \n",
      "Ma… https://t.co/GezzQd5WWM\n",
      "A economia é uma área em constante atualização e quem vive neste setor precisa acompanhar essas mudanças. Faça Pós-… https://t.co/kMND8qLcaF\n",
      "fazer um curso de data science com meu amor\n",
      "RT @_filipemesquita: \"Vejo por aí muitas vagas que pagam bem em dólares pra devs web, full stack, etc. mas nunca vi uma vaga dessas pra dat…\n",
      "RT @caiocgomes: Discordo aqui. Dados não são neutros. Esse eh um dos problemas que enfrentamos em Data Science e Machine Learning, onde usa…\n"
     ]
    }
   ],
   "source": [
    "tweets = tw.Cursor(api.search_tweets, q=\"data science\", lang=\"pt\").items(10)\n",
    "\n",
    "for tweet in tweets:\n",
    "    print(tweet.text)"
   ]
  },
  {
   "cell_type": "code",
   "execution_count": 9,
   "metadata": {},
   "outputs": [
    {
     "name": "stdout",
     "output_type": "stream",
     "text": [
      "APDABot\n",
      "\n",
      "------\n",
      "\n",
      "lesbotech\n",
      "SP\n",
      "------\n",
      "\n",
      "enyibinakata\n",
      "London, UK\n",
      "------\n",
      "\n",
      "python_volley\n",
      "Rio de Janeiro, Brasil\n",
      "------\n",
      "\n",
      "PythonbotBr\n",
      "United States\n",
      "------\n",
      "\n",
      "LennyKopes\n",
      "Earth Dimension C-137\n",
      "------\n",
      "\n",
      "JACBerm\n",
      "\n",
      "------\n",
      "\n",
      "AlissonDGuilhe1\n",
      "Lagopolis\n",
      "------\n",
      "\n",
      "PythonbotBr\n",
      "United States\n",
      "------\n",
      "\n",
      "slauslo\n",
      "d!ele - INTP - el psy congroo\n",
      "------\n",
      "\n",
      "PythonbotBr\n",
      "United States\n",
      "------\n",
      "\n",
      "gnomosedutor\n",
      "\n",
      "------\n",
      "\n",
      "ZeroOneTV\n",
      "\n",
      "------\n",
      "\n",
      "PythonbotBr\n",
      "United States\n",
      "------\n",
      "\n",
      "canhotadestrado\n",
      "São Paulo, Brasil\n",
      "------\n",
      "\n",
      "PythonbotBr\n",
      "United States\n",
      "------\n",
      "\n",
      "Tecnovagas1\n",
      "\n",
      "------\n",
      "\n",
      "PythonbotBr\n",
      "United States\n",
      "------\n",
      "\n",
      "Lorenzuou\n",
      "\n",
      "------\n",
      "\n",
      "PythonbotBr\n",
      "United States\n",
      "------\n",
      "\n"
     ]
    }
   ],
   "source": [
    "tweets = tw.Cursor(api.search_tweets, q=\"python\", lang=\"pt\").items(20)\n",
    "\n",
    "for tweet in tweets:\n",
    "    print(tweet.user.screen_name)\n",
    "    print(tweet.user.location)\n",
    "    print(\"------\", end=\"\\n\\n\")"
   ]
  },
  {
   "cell_type": "code",
   "execution_count": 37,
   "metadata": {},
   "outputs": [],
   "source": [
    "famosos = ['cauareymond','aguiarthur','ivetesangalo','ClaudiaLeitte','neymarjr','BruMarquezine','mariruybarbosa',\n",
    "'FePaesLeme','Tatawerneck','FlaviaAleReal','julianapaes','dedesecco','SabrinaSato','ahickmann','gusttavo_lima','Anitta',\n",
    "'CarolCastroReal','gio_antonelli','maisa','cleo','gewbank','taisdeverdade','otaviano','bernardipaloma',\n",
    "'IngridGuimaraes','olazaroramos','GalisteuOficial','debranascimento','FioMattheis','moalfradique','Nandacostareal']"
   ]
  },
  {
   "cell_type": "code",
   "execution_count": 11,
   "metadata": {},
   "outputs": [
    {
     "data": {
      "text/plain": [
       "31"
      ]
     },
     "execution_count": 11,
     "metadata": {},
     "output_type": "execute_result"
    }
   ],
   "source": [
    "len(famosos)"
   ]
  },
  {
   "cell_type": "code",
   "execution_count": 12,
   "metadata": {},
   "outputs": [
    {
     "name": "stdout",
     "output_type": "stream",
     "text": [
      "Autor:  cauareymond\n",
      "imagens postadas: \n",
      "http://pbs.twimg.com/ext_tw_video_thumb/1399019137926631428/pu/img/jtNjhh8USjhqZYMi.jpg\n",
      "------\n",
      "\n",
      "http://pbs.twimg.com/ext_tw_video_thumb/1486486751849947140/pu/img/6PfGEMguj3ejBPxv.jpg\n",
      "------\n",
      "\n",
      "http://pbs.twimg.com/media/FM3Kd3KaIAMpV6N.jpg\n",
      "------\n",
      "\n",
      "Autor:  aguiarthur\n",
      "imagens postadas: \n",
      "http://pbs.twimg.com/media/FM6OvHnXwAERNvo.jpg\n",
      "------\n",
      "\n",
      "http://pbs.twimg.com/media/FM5-NIrXIAYhCjX.jpg\n",
      "------\n",
      "\n",
      "http://pbs.twimg.com/ext_tw_video_thumb/1499214870440554496/pu/img/i2zCjlgpwpAhrEaB.jpg\n",
      "------\n",
      "\n",
      "http://pbs.twimg.com/media/FM7ah_uWUAQtzv1.jpg\n",
      "------\n",
      "\n",
      "http://pbs.twimg.com/ext_tw_video_thumb/1499212749255155717/pu/img/613atNDv2FpJUYSB.jpg\n",
      "------\n",
      "\n",
      "Autor:  ivetesangalo\n",
      "imagens postadas: \n",
      "http://pbs.twimg.com/media/FM43PBXXwAQ1Bot.jpg\n",
      "------\n",
      "\n",
      "http://pbs.twimg.com/ext_tw_video_thumb/1499370001983234049/pu/img/dKjZ0YzV4SbUEaut.jpg\n",
      "------\n",
      "\n",
      "http://pbs.twimg.com/media/FM7UqDlXIAkqDir.jpg\n",
      "------\n",
      "\n",
      "http://pbs.twimg.com/ext_tw_video_thumb/1497207177437667332/pu/img/__kolrVl-lZrVUGl.jpg\n",
      "------\n",
      "\n",
      "http://pbs.twimg.com/ext_tw_video_thumb/1327098994850455552/pu/img/aJp9lyg1IJvT8ssF.jpg\n",
      "------\n",
      "\n",
      "http://pbs.twimg.com/media/FM7Le2vXwAYlo2L.jpg\n",
      "------\n",
      "\n",
      "http://pbs.twimg.com/tweet_video_thumb/FM7KPGfXEAQLFfj.jpg\n",
      "------\n",
      "\n",
      "http://pbs.twimg.com/media/FM7ATvkXIAM10SB.jpg\n",
      "------\n",
      "\n",
      "Autor:  ClaudiaLeitte\n",
      "imagens postadas: \n",
      "http://pbs.twimg.com/ext_tw_video_thumb/1231494730409824257/pu/img/KopnuZCpsvQvTmpj.jpg\n",
      "------\n",
      "\n",
      "Autor:  neymarjr\n",
      "imagens postadas: \n",
      "http://pbs.twimg.com/media/FM7aXFtWYAEAb8j.jpg\n",
      "------\n",
      "\n",
      "http://pbs.twimg.com/media/FM6j8xIWYAMm2A7.jpg\n",
      "------\n",
      "\n",
      "http://pbs.twimg.com/media/FM6j8xIWYAMm2A7.jpg\n",
      "------\n",
      "\n",
      "http://pbs.twimg.com/media/FM6j8xIWYAMm2A7.jpg\n",
      "------\n",
      "\n",
      "http://pbs.twimg.com/media/FM7X511WQAcmv19.jpg\n",
      "------\n",
      "\n",
      "http://pbs.twimg.com/media/FM6j8xIWYAMm2A7.jpg\n",
      "------\n",
      "\n",
      "http://pbs.twimg.com/media/FM6j8xIWYAMm2A7.jpg\n",
      "------\n",
      "\n",
      "http://pbs.twimg.com/media/FM7X511WQAcmv19.jpg\n",
      "------\n",
      "\n",
      "http://pbs.twimg.com/media/FM6j8xIWYAMm2A7.jpg\n",
      "------\n",
      "\n",
      "http://pbs.twimg.com/media/FM7X511WQAcmv19.jpg\n",
      "------\n",
      "\n",
      "http://pbs.twimg.com/media/FM6j8xIWYAMm2A7.jpg\n",
      "------\n",
      "\n",
      "http://pbs.twimg.com/media/FM6j8xIWYAMm2A7.jpg\n",
      "------\n",
      "\n",
      "http://pbs.twimg.com/media/FM6j8xIWYAMm2A7.jpg\n",
      "------\n",
      "\n",
      "http://pbs.twimg.com/ext_tw_video_thumb/1499174582200193027/pu/img/Vsf7aaawe5FfHJ-I.jpg\n",
      "------\n",
      "\n",
      "Autor:  BruMarquezine\n",
      "imagens postadas: \n",
      "http://pbs.twimg.com/media/FM7TkmoXMAYwK0u.jpg\n",
      "------\n",
      "\n",
      "http://pbs.twimg.com/media/FM7aOnkWUAE5vTM.jpg\n",
      "------\n",
      "\n",
      "http://pbs.twimg.com/media/FM7TkmoXMAYwK0u.jpg\n",
      "------\n",
      "\n",
      "http://pbs.twimg.com/ext_tw_video_thumb/1499375192530997253/pu/img/n6YIJvPZwFME1Iv2.jpg\n",
      "------\n",
      "\n",
      "http://pbs.twimg.com/ext_tw_video_thumb/1499373840740151296/pu/img/KEQMAimxTYhmQFy3.jpg\n",
      "------\n",
      "\n",
      "http://pbs.twimg.com/ext_tw_video_thumb/1499374386285060100/pu/img/t2dmZ4tosiWM22TE.jpg\n",
      "------\n",
      "\n",
      "http://pbs.twimg.com/ext_tw_video_thumb/1499367521186635785/pu/img/vCg90lyJrxpKgr-z.jpg\n",
      "------\n",
      "\n",
      "http://pbs.twimg.com/media/FM7TkmoXMAYwK0u.jpg\n",
      "------\n",
      "\n",
      "http://pbs.twimg.com/media/FM7TkmoXMAYwK0u.jpg\n",
      "------\n",
      "\n",
      "http://pbs.twimg.com/media/FM7TkmoXMAYwK0u.jpg\n",
      "------\n",
      "\n",
      "http://pbs.twimg.com/media/FM7XFQyVEAEXVHS.jpg\n",
      "------\n",
      "\n",
      "http://pbs.twimg.com/media/FM41Z3IXsAEr91t.jpg\n",
      "------\n",
      "\n",
      "http://pbs.twimg.com/media/FM62zZ5XIAITy3N.jpg\n",
      "------\n",
      "\n",
      "Autor:  mariruybarbosa\n",
      "imagens postadas: \n",
      "http://pbs.twimg.com/media/FM4xM_NXMAManGo.jpg\n",
      "------\n",
      "\n",
      "Autor:  FePaesLeme\n",
      "imagens postadas: \n",
      "http://pbs.twimg.com/media/FMp0LxYXIAkDzLh.jpg\n",
      "------\n",
      "\n",
      "Autor:  Tatawerneck\n",
      "imagens postadas: \n",
      "http://pbs.twimg.com/tweet_video_thumb/FM63bTCXoAMA3mK.jpg\n",
      "------\n",
      "\n",
      "http://pbs.twimg.com/media/FM61vE1XIAAOhau.png\n",
      "------\n",
      "\n",
      "http://pbs.twimg.com/ext_tw_video_thumb/1499334822539501568/pu/img/n8McIcPxRBrSVlQt.jpg\n",
      "------\n",
      "\n",
      "Autor:  FlaviaAleReal\n",
      "imagens postadas: \n",
      "http://pbs.twimg.com/ext_tw_video_thumb/1047090163875241984/pu/img/cgDW-2Ml9twWqQtM.jpg\n",
      "------\n",
      "\n",
      "http://pbs.twimg.com/media/FMySu9sXsAYl1IQ.jpg\n",
      "------\n",
      "\n",
      "Autor:  julianapaes\n",
      "imagens postadas: \n",
      "Autor:  dedesecco\n",
      "imagens postadas: \n",
      "http://pbs.twimg.com/media/FM4LZYzWUAM7udE.jpg\n",
      "------\n",
      "\n",
      "http://pbs.twimg.com/tweet_video_thumb/FM2tviYX0AQ8du0.jpg\n",
      "------\n",
      "\n",
      "http://pbs.twimg.com/media/FM0qglVUcAER3hc.jpg\n",
      "------\n",
      "\n",
      "Autor:  SabrinaSato\n",
      "imagens postadas: \n",
      "http://pbs.twimg.com/media/FM7VwrbWYAAKqhi.jpg\n",
      "------\n",
      "\n",
      "Autor:  ahickmann\n",
      "imagens postadas: \n",
      "Autor:  gusttavo_lima\n",
      "imagens postadas: \n",
      "Autor:  Anitta\n",
      "imagens postadas: \n",
      "http://pbs.twimg.com/media/FM7D6HLXsAIDCK-.jpg\n",
      "------\n",
      "\n",
      "http://pbs.twimg.com/ext_tw_video_thumb/1499064709311520773/pu/img/QOqfMn72JaheMCch.jpg\n",
      "------\n",
      "\n",
      "http://pbs.twimg.com/media/FM4gKl2WYAULZRp.jpg\n",
      "------\n",
      "\n",
      "http://pbs.twimg.com/ext_tw_video_thumb/1499179292210733056/pu/img/Gc_CuwroldVKO3L9.jpg\n",
      "------\n",
      "\n",
      "http://pbs.twimg.com/ext_tw_video_thumb/1499177375157952515/pu/img/5IpdYNfBJO6WmBNQ.jpg\n",
      "------\n",
      "\n",
      "http://pbs.twimg.com/media/FM4gKl2WYAULZRp.jpg\n",
      "------\n",
      "\n",
      "http://pbs.twimg.com/media/FM7Yta-XsAUc7GW.jpg\n",
      "------\n",
      "\n",
      "http://pbs.twimg.com/media/FM6OVWRXoAIse38.jpg\n",
      "------\n",
      "\n",
      "http://pbs.twimg.com/media/FM4gKl2WYAULZRp.jpg\n",
      "------\n",
      "\n",
      "http://pbs.twimg.com/media/FM4gKl2WYAULZRp.jpg\n",
      "------\n",
      "\n",
      "http://pbs.twimg.com/ext_tw_video_thumb/1499179292210733056/pu/img/Gc_CuwroldVKO3L9.jpg\n",
      "------\n",
      "\n",
      "Autor:  CarolCastroReal\n",
      "imagens postadas: \n",
      "http://pbs.twimg.com/media/FM4QcqbX0AE8cUb.jpg\n",
      "------\n",
      "\n",
      "http://pbs.twimg.com/media/FM4QcqbX0AE8cUb.jpg\n",
      "------\n",
      "\n",
      "http://pbs.twimg.com/media/FMxFRl1XIAM6Hyw.jpg\n",
      "------\n",
      "\n",
      "http://pbs.twimg.com/media/E7BGnxlXsAYwpnb.jpg\n",
      "------\n",
      "\n"
     ]
    },
    {
     "ename": "TweepyException",
     "evalue": "Failed to send request: HTTPSConnectionPool(host='api.twitter.com', port=443): Max retries exceeded with url: /1.1/search/tweets.json?q=CarolCastroReal&max_id=1497213177360179200 (Caused by NewConnectionError('<urllib3.connection.HTTPSConnection object at 0x000001CA91609A60>: Failed to establish a new connection: [WinError 10060] Uma tentativa de conexão falhou porque o componente conectado não respondeu\\r\\ncorretamente após um período de tempo ou a conexão estabelecida falhou\\r\\nporque o host conectado não respondeu'))",
     "output_type": "error",
     "traceback": [
      "\u001b[1;31m---------------------------------------------------------------------------\u001b[0m",
      "\u001b[1;31mTimeoutError\u001b[0m                              Traceback (most recent call last)",
      "File \u001b[1;32m~\\Anaconda3\\envs\\machine_learning\\lib\\site-packages\\urllib3\\connection.py:174\u001b[0m, in \u001b[0;36mHTTPConnection._new_conn\u001b[1;34m(self)\u001b[0m\n\u001b[0;32m    <a href='file:///~/Anaconda3/envs/machine_learning/lib/site-packages/urllib3/connection.py?line=172'>173</a>\u001b[0m \u001b[39mtry\u001b[39;00m:\n\u001b[1;32m--> <a href='file:///~/Anaconda3/envs/machine_learning/lib/site-packages/urllib3/connection.py?line=173'>174</a>\u001b[0m     conn \u001b[39m=\u001b[39m connection\u001b[39m.\u001b[39;49mcreate_connection(\n\u001b[0;32m    <a href='file:///~/Anaconda3/envs/machine_learning/lib/site-packages/urllib3/connection.py?line=174'>175</a>\u001b[0m         (\u001b[39mself\u001b[39;49m\u001b[39m.\u001b[39;49m_dns_host, \u001b[39mself\u001b[39;49m\u001b[39m.\u001b[39;49mport), \u001b[39mself\u001b[39;49m\u001b[39m.\u001b[39;49mtimeout, \u001b[39m*\u001b[39;49m\u001b[39m*\u001b[39;49mextra_kw\n\u001b[0;32m    <a href='file:///~/Anaconda3/envs/machine_learning/lib/site-packages/urllib3/connection.py?line=175'>176</a>\u001b[0m     )\n\u001b[0;32m    <a href='file:///~/Anaconda3/envs/machine_learning/lib/site-packages/urllib3/connection.py?line=177'>178</a>\u001b[0m \u001b[39mexcept\u001b[39;00m SocketTimeout:\n",
      "File \u001b[1;32m~\\Anaconda3\\envs\\machine_learning\\lib\\site-packages\\urllib3\\util\\connection.py:95\u001b[0m, in \u001b[0;36mcreate_connection\u001b[1;34m(address, timeout, source_address, socket_options)\u001b[0m\n\u001b[0;32m     <a href='file:///~/Anaconda3/envs/machine_learning/lib/site-packages/urllib3/util/connection.py?line=93'>94</a>\u001b[0m \u001b[39mif\u001b[39;00m err \u001b[39mis\u001b[39;00m \u001b[39mnot\u001b[39;00m \u001b[39mNone\u001b[39;00m:\n\u001b[1;32m---> <a href='file:///~/Anaconda3/envs/machine_learning/lib/site-packages/urllib3/util/connection.py?line=94'>95</a>\u001b[0m     \u001b[39mraise\u001b[39;00m err\n\u001b[0;32m     <a href='file:///~/Anaconda3/envs/machine_learning/lib/site-packages/urllib3/util/connection.py?line=96'>97</a>\u001b[0m \u001b[39mraise\u001b[39;00m socket\u001b[39m.\u001b[39merror(\u001b[39m\"\u001b[39m\u001b[39mgetaddrinfo returns an empty list\u001b[39m\u001b[39m\"\u001b[39m)\n",
      "File \u001b[1;32m~\\Anaconda3\\envs\\machine_learning\\lib\\site-packages\\urllib3\\util\\connection.py:85\u001b[0m, in \u001b[0;36mcreate_connection\u001b[1;34m(address, timeout, source_address, socket_options)\u001b[0m\n\u001b[0;32m     <a href='file:///~/Anaconda3/envs/machine_learning/lib/site-packages/urllib3/util/connection.py?line=83'>84</a>\u001b[0m     sock\u001b[39m.\u001b[39mbind(source_address)\n\u001b[1;32m---> <a href='file:///~/Anaconda3/envs/machine_learning/lib/site-packages/urllib3/util/connection.py?line=84'>85</a>\u001b[0m sock\u001b[39m.\u001b[39;49mconnect(sa)\n\u001b[0;32m     <a href='file:///~/Anaconda3/envs/machine_learning/lib/site-packages/urllib3/util/connection.py?line=85'>86</a>\u001b[0m \u001b[39mreturn\u001b[39;00m sock\n",
      "\u001b[1;31mTimeoutError\u001b[0m: [WinError 10060] Uma tentativa de conexão falhou porque o componente conectado não respondeu\r\ncorretamente após um período de tempo ou a conexão estabelecida falhou\r\nporque o host conectado não respondeu",
      "\nDuring handling of the above exception, another exception occurred:\n",
      "\u001b[1;31mNewConnectionError\u001b[0m                        Traceback (most recent call last)",
      "File \u001b[1;32m~\\Anaconda3\\envs\\machine_learning\\lib\\site-packages\\urllib3\\connectionpool.py:703\u001b[0m, in \u001b[0;36mHTTPConnectionPool.urlopen\u001b[1;34m(self, method, url, body, headers, retries, redirect, assert_same_host, timeout, pool_timeout, release_conn, chunked, body_pos, **response_kw)\u001b[0m\n\u001b[0;32m    <a href='file:///~/Anaconda3/envs/machine_learning/lib/site-packages/urllib3/connectionpool.py?line=701'>702</a>\u001b[0m \u001b[39m# Make the request on the httplib connection object.\u001b[39;00m\n\u001b[1;32m--> <a href='file:///~/Anaconda3/envs/machine_learning/lib/site-packages/urllib3/connectionpool.py?line=702'>703</a>\u001b[0m httplib_response \u001b[39m=\u001b[39m \u001b[39mself\u001b[39;49m\u001b[39m.\u001b[39;49m_make_request(\n\u001b[0;32m    <a href='file:///~/Anaconda3/envs/machine_learning/lib/site-packages/urllib3/connectionpool.py?line=703'>704</a>\u001b[0m     conn,\n\u001b[0;32m    <a href='file:///~/Anaconda3/envs/machine_learning/lib/site-packages/urllib3/connectionpool.py?line=704'>705</a>\u001b[0m     method,\n\u001b[0;32m    <a href='file:///~/Anaconda3/envs/machine_learning/lib/site-packages/urllib3/connectionpool.py?line=705'>706</a>\u001b[0m     url,\n\u001b[0;32m    <a href='file:///~/Anaconda3/envs/machine_learning/lib/site-packages/urllib3/connectionpool.py?line=706'>707</a>\u001b[0m     timeout\u001b[39m=\u001b[39;49mtimeout_obj,\n\u001b[0;32m    <a href='file:///~/Anaconda3/envs/machine_learning/lib/site-packages/urllib3/connectionpool.py?line=707'>708</a>\u001b[0m     body\u001b[39m=\u001b[39;49mbody,\n\u001b[0;32m    <a href='file:///~/Anaconda3/envs/machine_learning/lib/site-packages/urllib3/connectionpool.py?line=708'>709</a>\u001b[0m     headers\u001b[39m=\u001b[39;49mheaders,\n\u001b[0;32m    <a href='file:///~/Anaconda3/envs/machine_learning/lib/site-packages/urllib3/connectionpool.py?line=709'>710</a>\u001b[0m     chunked\u001b[39m=\u001b[39;49mchunked,\n\u001b[0;32m    <a href='file:///~/Anaconda3/envs/machine_learning/lib/site-packages/urllib3/connectionpool.py?line=710'>711</a>\u001b[0m )\n\u001b[0;32m    <a href='file:///~/Anaconda3/envs/machine_learning/lib/site-packages/urllib3/connectionpool.py?line=712'>713</a>\u001b[0m \u001b[39m# If we're going to release the connection in ``finally:``, then\u001b[39;00m\n\u001b[0;32m    <a href='file:///~/Anaconda3/envs/machine_learning/lib/site-packages/urllib3/connectionpool.py?line=713'>714</a>\u001b[0m \u001b[39m# the response doesn't need to know about the connection. Otherwise\u001b[39;00m\n\u001b[0;32m    <a href='file:///~/Anaconda3/envs/machine_learning/lib/site-packages/urllib3/connectionpool.py?line=714'>715</a>\u001b[0m \u001b[39m# it will also try to release it and we'll have a double-release\u001b[39;00m\n\u001b[0;32m    <a href='file:///~/Anaconda3/envs/machine_learning/lib/site-packages/urllib3/connectionpool.py?line=715'>716</a>\u001b[0m \u001b[39m# mess.\u001b[39;00m\n",
      "File \u001b[1;32m~\\Anaconda3\\envs\\machine_learning\\lib\\site-packages\\urllib3\\connectionpool.py:386\u001b[0m, in \u001b[0;36mHTTPConnectionPool._make_request\u001b[1;34m(self, conn, method, url, timeout, chunked, **httplib_request_kw)\u001b[0m\n\u001b[0;32m    <a href='file:///~/Anaconda3/envs/machine_learning/lib/site-packages/urllib3/connectionpool.py?line=384'>385</a>\u001b[0m \u001b[39mtry\u001b[39;00m:\n\u001b[1;32m--> <a href='file:///~/Anaconda3/envs/machine_learning/lib/site-packages/urllib3/connectionpool.py?line=385'>386</a>\u001b[0m     \u001b[39mself\u001b[39;49m\u001b[39m.\u001b[39;49m_validate_conn(conn)\n\u001b[0;32m    <a href='file:///~/Anaconda3/envs/machine_learning/lib/site-packages/urllib3/connectionpool.py?line=386'>387</a>\u001b[0m \u001b[39mexcept\u001b[39;00m (SocketTimeout, BaseSSLError) \u001b[39mas\u001b[39;00m e:\n\u001b[0;32m    <a href='file:///~/Anaconda3/envs/machine_learning/lib/site-packages/urllib3/connectionpool.py?line=387'>388</a>\u001b[0m     \u001b[39m# Py2 raises this as a BaseSSLError, Py3 raises it as socket timeout.\u001b[39;00m\n",
      "File \u001b[1;32m~\\Anaconda3\\envs\\machine_learning\\lib\\site-packages\\urllib3\\connectionpool.py:1040\u001b[0m, in \u001b[0;36mHTTPSConnectionPool._validate_conn\u001b[1;34m(self, conn)\u001b[0m\n\u001b[0;32m   <a href='file:///~/Anaconda3/envs/machine_learning/lib/site-packages/urllib3/connectionpool.py?line=1038'>1039</a>\u001b[0m \u001b[39mif\u001b[39;00m \u001b[39mnot\u001b[39;00m \u001b[39mgetattr\u001b[39m(conn, \u001b[39m\"\u001b[39m\u001b[39msock\u001b[39m\u001b[39m\"\u001b[39m, \u001b[39mNone\u001b[39;00m):  \u001b[39m# AppEngine might not have  `.sock`\u001b[39;00m\n\u001b[1;32m-> <a href='file:///~/Anaconda3/envs/machine_learning/lib/site-packages/urllib3/connectionpool.py?line=1039'>1040</a>\u001b[0m     conn\u001b[39m.\u001b[39;49mconnect()\n\u001b[0;32m   <a href='file:///~/Anaconda3/envs/machine_learning/lib/site-packages/urllib3/connectionpool.py?line=1041'>1042</a>\u001b[0m \u001b[39mif\u001b[39;00m \u001b[39mnot\u001b[39;00m conn\u001b[39m.\u001b[39mis_verified:\n",
      "File \u001b[1;32m~\\Anaconda3\\envs\\machine_learning\\lib\\site-packages\\urllib3\\connection.py:358\u001b[0m, in \u001b[0;36mHTTPSConnection.connect\u001b[1;34m(self)\u001b[0m\n\u001b[0;32m    <a href='file:///~/Anaconda3/envs/machine_learning/lib/site-packages/urllib3/connection.py?line=355'>356</a>\u001b[0m \u001b[39mdef\u001b[39;00m \u001b[39mconnect\u001b[39m(\u001b[39mself\u001b[39m):\n\u001b[0;32m    <a href='file:///~/Anaconda3/envs/machine_learning/lib/site-packages/urllib3/connection.py?line=356'>357</a>\u001b[0m     \u001b[39m# Add certificate verification\u001b[39;00m\n\u001b[1;32m--> <a href='file:///~/Anaconda3/envs/machine_learning/lib/site-packages/urllib3/connection.py?line=357'>358</a>\u001b[0m     conn \u001b[39m=\u001b[39m \u001b[39mself\u001b[39;49m\u001b[39m.\u001b[39;49m_new_conn()\n\u001b[0;32m    <a href='file:///~/Anaconda3/envs/machine_learning/lib/site-packages/urllib3/connection.py?line=358'>359</a>\u001b[0m     hostname \u001b[39m=\u001b[39m \u001b[39mself\u001b[39m\u001b[39m.\u001b[39mhost\n",
      "File \u001b[1;32m~\\Anaconda3\\envs\\machine_learning\\lib\\site-packages\\urllib3\\connection.py:186\u001b[0m, in \u001b[0;36mHTTPConnection._new_conn\u001b[1;34m(self)\u001b[0m\n\u001b[0;32m    <a href='file:///~/Anaconda3/envs/machine_learning/lib/site-packages/urllib3/connection.py?line=184'>185</a>\u001b[0m \u001b[39mexcept\u001b[39;00m SocketError \u001b[39mas\u001b[39;00m e:\n\u001b[1;32m--> <a href='file:///~/Anaconda3/envs/machine_learning/lib/site-packages/urllib3/connection.py?line=185'>186</a>\u001b[0m     \u001b[39mraise\u001b[39;00m NewConnectionError(\n\u001b[0;32m    <a href='file:///~/Anaconda3/envs/machine_learning/lib/site-packages/urllib3/connection.py?line=186'>187</a>\u001b[0m         \u001b[39mself\u001b[39m, \u001b[39m\"\u001b[39m\u001b[39mFailed to establish a new connection: \u001b[39m\u001b[39m%s\u001b[39;00m\u001b[39m\"\u001b[39m \u001b[39m%\u001b[39m e\n\u001b[0;32m    <a href='file:///~/Anaconda3/envs/machine_learning/lib/site-packages/urllib3/connection.py?line=187'>188</a>\u001b[0m     )\n\u001b[0;32m    <a href='file:///~/Anaconda3/envs/machine_learning/lib/site-packages/urllib3/connection.py?line=189'>190</a>\u001b[0m \u001b[39mreturn\u001b[39;00m conn\n",
      "\u001b[1;31mNewConnectionError\u001b[0m: <urllib3.connection.HTTPSConnection object at 0x000001CA91609A60>: Failed to establish a new connection: [WinError 10060] Uma tentativa de conexão falhou porque o componente conectado não respondeu\r\ncorretamente após um período de tempo ou a conexão estabelecida falhou\r\nporque o host conectado não respondeu",
      "\nDuring handling of the above exception, another exception occurred:\n",
      "\u001b[1;31mMaxRetryError\u001b[0m                             Traceback (most recent call last)",
      "File \u001b[1;32m~\\Anaconda3\\envs\\machine_learning\\lib\\site-packages\\requests\\adapters.py:440\u001b[0m, in \u001b[0;36mHTTPAdapter.send\u001b[1;34m(self, request, stream, timeout, verify, cert, proxies)\u001b[0m\n\u001b[0;32m    <a href='file:///~/Anaconda3/envs/machine_learning/lib/site-packages/requests/adapters.py?line=438'>439</a>\u001b[0m \u001b[39mif\u001b[39;00m \u001b[39mnot\u001b[39;00m chunked:\n\u001b[1;32m--> <a href='file:///~/Anaconda3/envs/machine_learning/lib/site-packages/requests/adapters.py?line=439'>440</a>\u001b[0m     resp \u001b[39m=\u001b[39m conn\u001b[39m.\u001b[39;49murlopen(\n\u001b[0;32m    <a href='file:///~/Anaconda3/envs/machine_learning/lib/site-packages/requests/adapters.py?line=440'>441</a>\u001b[0m         method\u001b[39m=\u001b[39;49mrequest\u001b[39m.\u001b[39;49mmethod,\n\u001b[0;32m    <a href='file:///~/Anaconda3/envs/machine_learning/lib/site-packages/requests/adapters.py?line=441'>442</a>\u001b[0m         url\u001b[39m=\u001b[39;49murl,\n\u001b[0;32m    <a href='file:///~/Anaconda3/envs/machine_learning/lib/site-packages/requests/adapters.py?line=442'>443</a>\u001b[0m         body\u001b[39m=\u001b[39;49mrequest\u001b[39m.\u001b[39;49mbody,\n\u001b[0;32m    <a href='file:///~/Anaconda3/envs/machine_learning/lib/site-packages/requests/adapters.py?line=443'>444</a>\u001b[0m         headers\u001b[39m=\u001b[39;49mrequest\u001b[39m.\u001b[39;49mheaders,\n\u001b[0;32m    <a href='file:///~/Anaconda3/envs/machine_learning/lib/site-packages/requests/adapters.py?line=444'>445</a>\u001b[0m         redirect\u001b[39m=\u001b[39;49m\u001b[39mFalse\u001b[39;49;00m,\n\u001b[0;32m    <a href='file:///~/Anaconda3/envs/machine_learning/lib/site-packages/requests/adapters.py?line=445'>446</a>\u001b[0m         assert_same_host\u001b[39m=\u001b[39;49m\u001b[39mFalse\u001b[39;49;00m,\n\u001b[0;32m    <a href='file:///~/Anaconda3/envs/machine_learning/lib/site-packages/requests/adapters.py?line=446'>447</a>\u001b[0m         preload_content\u001b[39m=\u001b[39;49m\u001b[39mFalse\u001b[39;49;00m,\n\u001b[0;32m    <a href='file:///~/Anaconda3/envs/machine_learning/lib/site-packages/requests/adapters.py?line=447'>448</a>\u001b[0m         decode_content\u001b[39m=\u001b[39;49m\u001b[39mFalse\u001b[39;49;00m,\n\u001b[0;32m    <a href='file:///~/Anaconda3/envs/machine_learning/lib/site-packages/requests/adapters.py?line=448'>449</a>\u001b[0m         retries\u001b[39m=\u001b[39;49m\u001b[39mself\u001b[39;49m\u001b[39m.\u001b[39;49mmax_retries,\n\u001b[0;32m    <a href='file:///~/Anaconda3/envs/machine_learning/lib/site-packages/requests/adapters.py?line=449'>450</a>\u001b[0m         timeout\u001b[39m=\u001b[39;49mtimeout\n\u001b[0;32m    <a href='file:///~/Anaconda3/envs/machine_learning/lib/site-packages/requests/adapters.py?line=450'>451</a>\u001b[0m     )\n\u001b[0;32m    <a href='file:///~/Anaconda3/envs/machine_learning/lib/site-packages/requests/adapters.py?line=452'>453</a>\u001b[0m \u001b[39m# Send the request.\u001b[39;00m\n\u001b[0;32m    <a href='file:///~/Anaconda3/envs/machine_learning/lib/site-packages/requests/adapters.py?line=453'>454</a>\u001b[0m \u001b[39melse\u001b[39;00m:\n",
      "File \u001b[1;32m~\\Anaconda3\\envs\\machine_learning\\lib\\site-packages\\urllib3\\connectionpool.py:785\u001b[0m, in \u001b[0;36mHTTPConnectionPool.urlopen\u001b[1;34m(self, method, url, body, headers, retries, redirect, assert_same_host, timeout, pool_timeout, release_conn, chunked, body_pos, **response_kw)\u001b[0m\n\u001b[0;32m    <a href='file:///~/Anaconda3/envs/machine_learning/lib/site-packages/urllib3/connectionpool.py?line=782'>783</a>\u001b[0m     e \u001b[39m=\u001b[39m ProtocolError(\u001b[39m\"\u001b[39m\u001b[39mConnection aborted.\u001b[39m\u001b[39m\"\u001b[39m, e)\n\u001b[1;32m--> <a href='file:///~/Anaconda3/envs/machine_learning/lib/site-packages/urllib3/connectionpool.py?line=784'>785</a>\u001b[0m retries \u001b[39m=\u001b[39m retries\u001b[39m.\u001b[39;49mincrement(\n\u001b[0;32m    <a href='file:///~/Anaconda3/envs/machine_learning/lib/site-packages/urllib3/connectionpool.py?line=785'>786</a>\u001b[0m     method, url, error\u001b[39m=\u001b[39;49me, _pool\u001b[39m=\u001b[39;49m\u001b[39mself\u001b[39;49m, _stacktrace\u001b[39m=\u001b[39;49msys\u001b[39m.\u001b[39;49mexc_info()[\u001b[39m2\u001b[39;49m]\n\u001b[0;32m    <a href='file:///~/Anaconda3/envs/machine_learning/lib/site-packages/urllib3/connectionpool.py?line=786'>787</a>\u001b[0m )\n\u001b[0;32m    <a href='file:///~/Anaconda3/envs/machine_learning/lib/site-packages/urllib3/connectionpool.py?line=787'>788</a>\u001b[0m retries\u001b[39m.\u001b[39msleep()\n",
      "File \u001b[1;32m~\\Anaconda3\\envs\\machine_learning\\lib\\site-packages\\urllib3\\util\\retry.py:592\u001b[0m, in \u001b[0;36mRetry.increment\u001b[1;34m(self, method, url, response, error, _pool, _stacktrace)\u001b[0m\n\u001b[0;32m    <a href='file:///~/Anaconda3/envs/machine_learning/lib/site-packages/urllib3/util/retry.py?line=590'>591</a>\u001b[0m \u001b[39mif\u001b[39;00m new_retry\u001b[39m.\u001b[39mis_exhausted():\n\u001b[1;32m--> <a href='file:///~/Anaconda3/envs/machine_learning/lib/site-packages/urllib3/util/retry.py?line=591'>592</a>\u001b[0m     \u001b[39mraise\u001b[39;00m MaxRetryError(_pool, url, error \u001b[39mor\u001b[39;00m ResponseError(cause))\n\u001b[0;32m    <a href='file:///~/Anaconda3/envs/machine_learning/lib/site-packages/urllib3/util/retry.py?line=593'>594</a>\u001b[0m log\u001b[39m.\u001b[39mdebug(\u001b[39m\"\u001b[39m\u001b[39mIncremented Retry for (url=\u001b[39m\u001b[39m'\u001b[39m\u001b[39m%s\u001b[39;00m\u001b[39m'\u001b[39m\u001b[39m): \u001b[39m\u001b[39m%r\u001b[39;00m\u001b[39m\"\u001b[39m, url, new_retry)\n",
      "\u001b[1;31mMaxRetryError\u001b[0m: HTTPSConnectionPool(host='api.twitter.com', port=443): Max retries exceeded with url: /1.1/search/tweets.json?q=CarolCastroReal&max_id=1497213177360179200 (Caused by NewConnectionError('<urllib3.connection.HTTPSConnection object at 0x000001CA91609A60>: Failed to establish a new connection: [WinError 10060] Uma tentativa de conexão falhou porque o componente conectado não respondeu\\r\\ncorretamente após um período de tempo ou a conexão estabelecida falhou\\r\\nporque o host conectado não respondeu'))",
      "\nDuring handling of the above exception, another exception occurred:\n",
      "\u001b[1;31mConnectionError\u001b[0m                           Traceback (most recent call last)",
      "File \u001b[1;32m~\\Anaconda3\\envs\\machine_learning\\lib\\site-packages\\tweepy\\api.py:216\u001b[0m, in \u001b[0;36mAPI.request\u001b[1;34m(self, method, endpoint, endpoint_parameters, params, headers, json_payload, parser, payload_list, payload_type, post_data, files, require_auth, return_cursors, upload_api, use_cache, **kwargs)\u001b[0m\n\u001b[0;32m    <a href='file:///~/Anaconda3/envs/machine_learning/lib/site-packages/tweepy/api.py?line=214'>215</a>\u001b[0m \u001b[39mtry\u001b[39;00m:\n\u001b[1;32m--> <a href='file:///~/Anaconda3/envs/machine_learning/lib/site-packages/tweepy/api.py?line=215'>216</a>\u001b[0m     resp \u001b[39m=\u001b[39m \u001b[39mself\u001b[39;49m\u001b[39m.\u001b[39;49msession\u001b[39m.\u001b[39;49mrequest(\n\u001b[0;32m    <a href='file:///~/Anaconda3/envs/machine_learning/lib/site-packages/tweepy/api.py?line=216'>217</a>\u001b[0m         method, url, params\u001b[39m=\u001b[39;49mparams, headers\u001b[39m=\u001b[39;49mheaders,\n\u001b[0;32m    <a href='file:///~/Anaconda3/envs/machine_learning/lib/site-packages/tweepy/api.py?line=217'>218</a>\u001b[0m         data\u001b[39m=\u001b[39;49mpost_data, files\u001b[39m=\u001b[39;49mfiles, json\u001b[39m=\u001b[39;49mjson_payload,\n\u001b[0;32m    <a href='file:///~/Anaconda3/envs/machine_learning/lib/site-packages/tweepy/api.py?line=218'>219</a>\u001b[0m         timeout\u001b[39m=\u001b[39;49m\u001b[39mself\u001b[39;49m\u001b[39m.\u001b[39;49mtimeout, auth\u001b[39m=\u001b[39;49mauth, proxies\u001b[39m=\u001b[39;49m\u001b[39mself\u001b[39;49m\u001b[39m.\u001b[39;49mproxy\n\u001b[0;32m    <a href='file:///~/Anaconda3/envs/machine_learning/lib/site-packages/tweepy/api.py?line=219'>220</a>\u001b[0m     )\n\u001b[0;32m    <a href='file:///~/Anaconda3/envs/machine_learning/lib/site-packages/tweepy/api.py?line=220'>221</a>\u001b[0m \u001b[39mexcept\u001b[39;00m \u001b[39mException\u001b[39;00m \u001b[39mas\u001b[39;00m e:\n",
      "File \u001b[1;32m~\\Anaconda3\\envs\\machine_learning\\lib\\site-packages\\requests\\sessions.py:529\u001b[0m, in \u001b[0;36mSession.request\u001b[1;34m(self, method, url, params, data, headers, cookies, files, auth, timeout, allow_redirects, proxies, hooks, stream, verify, cert, json)\u001b[0m\n\u001b[0;32m    <a href='file:///~/Anaconda3/envs/machine_learning/lib/site-packages/requests/sessions.py?line=527'>528</a>\u001b[0m send_kwargs\u001b[39m.\u001b[39mupdate(settings)\n\u001b[1;32m--> <a href='file:///~/Anaconda3/envs/machine_learning/lib/site-packages/requests/sessions.py?line=528'>529</a>\u001b[0m resp \u001b[39m=\u001b[39m \u001b[39mself\u001b[39;49m\u001b[39m.\u001b[39;49msend(prep, \u001b[39m*\u001b[39;49m\u001b[39m*\u001b[39;49msend_kwargs)\n\u001b[0;32m    <a href='file:///~/Anaconda3/envs/machine_learning/lib/site-packages/requests/sessions.py?line=530'>531</a>\u001b[0m \u001b[39mreturn\u001b[39;00m resp\n",
      "File \u001b[1;32m~\\Anaconda3\\envs\\machine_learning\\lib\\site-packages\\requests\\sessions.py:645\u001b[0m, in \u001b[0;36mSession.send\u001b[1;34m(self, request, **kwargs)\u001b[0m\n\u001b[0;32m    <a href='file:///~/Anaconda3/envs/machine_learning/lib/site-packages/requests/sessions.py?line=643'>644</a>\u001b[0m \u001b[39m# Send the request\u001b[39;00m\n\u001b[1;32m--> <a href='file:///~/Anaconda3/envs/machine_learning/lib/site-packages/requests/sessions.py?line=644'>645</a>\u001b[0m r \u001b[39m=\u001b[39m adapter\u001b[39m.\u001b[39;49msend(request, \u001b[39m*\u001b[39;49m\u001b[39m*\u001b[39;49mkwargs)\n\u001b[0;32m    <a href='file:///~/Anaconda3/envs/machine_learning/lib/site-packages/requests/sessions.py?line=646'>647</a>\u001b[0m \u001b[39m# Total elapsed time of the request (approximately)\u001b[39;00m\n",
      "File \u001b[1;32m~\\Anaconda3\\envs\\machine_learning\\lib\\site-packages\\requests\\adapters.py:519\u001b[0m, in \u001b[0;36mHTTPAdapter.send\u001b[1;34m(self, request, stream, timeout, verify, cert, proxies)\u001b[0m\n\u001b[0;32m    <a href='file:///~/Anaconda3/envs/machine_learning/lib/site-packages/requests/adapters.py?line=516'>517</a>\u001b[0m         \u001b[39mraise\u001b[39;00m SSLError(e, request\u001b[39m=\u001b[39mrequest)\n\u001b[1;32m--> <a href='file:///~/Anaconda3/envs/machine_learning/lib/site-packages/requests/adapters.py?line=518'>519</a>\u001b[0m     \u001b[39mraise\u001b[39;00m \u001b[39mConnectionError\u001b[39;00m(e, request\u001b[39m=\u001b[39mrequest)\n\u001b[0;32m    <a href='file:///~/Anaconda3/envs/machine_learning/lib/site-packages/requests/adapters.py?line=520'>521</a>\u001b[0m \u001b[39mexcept\u001b[39;00m ClosedPoolError \u001b[39mas\u001b[39;00m e:\n",
      "\u001b[1;31mConnectionError\u001b[0m: HTTPSConnectionPool(host='api.twitter.com', port=443): Max retries exceeded with url: /1.1/search/tweets.json?q=CarolCastroReal&max_id=1497213177360179200 (Caused by NewConnectionError('<urllib3.connection.HTTPSConnection object at 0x000001CA91609A60>: Failed to establish a new connection: [WinError 10060] Uma tentativa de conexão falhou porque o componente conectado não respondeu\\r\\ncorretamente após um período de tempo ou a conexão estabelecida falhou\\r\\nporque o host conectado não respondeu'))",
      "\nDuring handling of the above exception, another exception occurred:\n",
      "\u001b[1;31mTweepyException\u001b[0m                           Traceback (most recent call last)",
      "\u001b[1;32mc:\\Users\\Bruno\\Desktop\\vscode\\vscode\\Formação Machine Learning Avançada\\10. Reconhecimento de imagens - Twitter e Computer Vision API\\twitter-python.ipynb Cell 16'\u001b[0m in \u001b[0;36m<module>\u001b[1;34m\u001b[0m\n\u001b[0;32m      <a href='vscode-notebook-cell:/c%3A/Users/Bruno/Desktop/vscode/vscode/Forma%C3%A7%C3%A3o%20Machine%20Learning%20Avan%C3%A7ada/10.%20Reconhecimento%20de%20imagens%20-%20Twitter%20e%20Computer%20Vision%20API/twitter-python.ipynb#ch0000015?line=3'>4</a>\u001b[0m \u001b[39mprint\u001b[39m(\u001b[39m\"\u001b[39m\u001b[39mAutor: \u001b[39m\u001b[39m\"\u001b[39m, famoso)\n\u001b[0;32m      <a href='vscode-notebook-cell:/c%3A/Users/Bruno/Desktop/vscode/vscode/Forma%C3%A7%C3%A3o%20Machine%20Learning%20Avan%C3%A7ada/10.%20Reconhecimento%20de%20imagens%20-%20Twitter%20e%20Computer%20Vision%20API/twitter-python.ipynb#ch0000015?line=4'>5</a>\u001b[0m \u001b[39mprint\u001b[39m(\u001b[39m\"\u001b[39m\u001b[39mimagens postadas: \u001b[39m\u001b[39m\"\u001b[39m)\n\u001b[1;32m----> <a href='vscode-notebook-cell:/c%3A/Users/Bruno/Desktop/vscode/vscode/Forma%C3%A7%C3%A3o%20Machine%20Learning%20Avan%C3%A7ada/10.%20Reconhecimento%20de%20imagens%20-%20Twitter%20e%20Computer%20Vision%20API/twitter-python.ipynb#ch0000015?line=6'>7</a>\u001b[0m \u001b[39mfor\u001b[39;00m tweet \u001b[39min\u001b[39;00m tweets:\n\u001b[0;32m      <a href='vscode-notebook-cell:/c%3A/Users/Bruno/Desktop/vscode/vscode/Forma%C3%A7%C3%A3o%20Machine%20Learning%20Avan%C3%A7ada/10.%20Reconhecimento%20de%20imagens%20-%20Twitter%20e%20Computer%20Vision%20API/twitter-python.ipynb#ch0000015?line=7'>8</a>\u001b[0m     \u001b[39mif\u001b[39;00m \u001b[39m'\u001b[39m\u001b[39mmedia\u001b[39m\u001b[39m'\u001b[39m \u001b[39min\u001b[39;00m tweet\u001b[39m.\u001b[39mentities:\n\u001b[0;32m      <a href='vscode-notebook-cell:/c%3A/Users/Bruno/Desktop/vscode/vscode/Forma%C3%A7%C3%A3o%20Machine%20Learning%20Avan%C3%A7ada/10.%20Reconhecimento%20de%20imagens%20-%20Twitter%20e%20Computer%20Vision%20API/twitter-python.ipynb#ch0000015?line=8'>9</a>\u001b[0m         \u001b[39mprint\u001b[39m(tweet\u001b[39m.\u001b[39mentities[\u001b[39m'\u001b[39m\u001b[39mmedia\u001b[39m\u001b[39m'\u001b[39m][\u001b[39m0\u001b[39m][\u001b[39m'\u001b[39m\u001b[39mmedia_url\u001b[39m\u001b[39m'\u001b[39m])\n",
      "File \u001b[1;32m~\\Anaconda3\\envs\\machine_learning\\lib\\site-packages\\tweepy\\cursor.py:86\u001b[0m, in \u001b[0;36mBaseIterator.__next__\u001b[1;34m(self)\u001b[0m\n\u001b[0;32m     <a href='file:///~/Anaconda3/envs/machine_learning/lib/site-packages/tweepy/cursor.py?line=84'>85</a>\u001b[0m \u001b[39mdef\u001b[39;00m \u001b[39m__next__\u001b[39m(\u001b[39mself\u001b[39m):\n\u001b[1;32m---> <a href='file:///~/Anaconda3/envs/machine_learning/lib/site-packages/tweepy/cursor.py?line=85'>86</a>\u001b[0m     \u001b[39mreturn\u001b[39;00m \u001b[39mself\u001b[39;49m\u001b[39m.\u001b[39;49mnext()\n",
      "File \u001b[1;32m~\\Anaconda3\\envs\\machine_learning\\lib\\site-packages\\tweepy\\cursor.py:286\u001b[0m, in \u001b[0;36mItemIterator.next\u001b[1;34m(self)\u001b[0m\n\u001b[0;32m    <a href='file:///~/Anaconda3/envs/machine_learning/lib/site-packages/tweepy/cursor.py?line=282'>283</a>\u001b[0m     \u001b[39mraise\u001b[39;00m \u001b[39mStopIteration\u001b[39;00m\n\u001b[0;32m    <a href='file:///~/Anaconda3/envs/machine_learning/lib/site-packages/tweepy/cursor.py?line=283'>284</a>\u001b[0m \u001b[39mif\u001b[39;00m \u001b[39mself\u001b[39m\u001b[39m.\u001b[39mcurrent_page \u001b[39mis\u001b[39;00m \u001b[39mNone\u001b[39;00m \u001b[39mor\u001b[39;00m \u001b[39mself\u001b[39m\u001b[39m.\u001b[39mpage_index \u001b[39m==\u001b[39m \u001b[39mlen\u001b[39m(\u001b[39mself\u001b[39m\u001b[39m.\u001b[39mcurrent_page) \u001b[39m-\u001b[39m \u001b[39m1\u001b[39m:\n\u001b[0;32m    <a href='file:///~/Anaconda3/envs/machine_learning/lib/site-packages/tweepy/cursor.py?line=284'>285</a>\u001b[0m     \u001b[39m# Reached end of current page, get the next page...\u001b[39;00m\n\u001b[1;32m--> <a href='file:///~/Anaconda3/envs/machine_learning/lib/site-packages/tweepy/cursor.py?line=285'>286</a>\u001b[0m     \u001b[39mself\u001b[39m\u001b[39m.\u001b[39mcurrent_page \u001b[39m=\u001b[39m \u001b[39mnext\u001b[39;49m(\u001b[39mself\u001b[39;49m\u001b[39m.\u001b[39;49mpage_iterator)\n\u001b[0;32m    <a href='file:///~/Anaconda3/envs/machine_learning/lib/site-packages/tweepy/cursor.py?line=286'>287</a>\u001b[0m     \u001b[39mwhile\u001b[39;00m \u001b[39mlen\u001b[39m(\u001b[39mself\u001b[39m\u001b[39m.\u001b[39mcurrent_page) \u001b[39m==\u001b[39m \u001b[39m0\u001b[39m:\n\u001b[0;32m    <a href='file:///~/Anaconda3/envs/machine_learning/lib/site-packages/tweepy/cursor.py?line=287'>288</a>\u001b[0m         \u001b[39mself\u001b[39m\u001b[39m.\u001b[39mcurrent_page \u001b[39m=\u001b[39m \u001b[39mnext\u001b[39m(\u001b[39mself\u001b[39m\u001b[39m.\u001b[39mpage_iterator)\n",
      "File \u001b[1;32m~\\Anaconda3\\envs\\machine_learning\\lib\\site-packages\\tweepy\\cursor.py:86\u001b[0m, in \u001b[0;36mBaseIterator.__next__\u001b[1;34m(self)\u001b[0m\n\u001b[0;32m     <a href='file:///~/Anaconda3/envs/machine_learning/lib/site-packages/tweepy/cursor.py?line=84'>85</a>\u001b[0m \u001b[39mdef\u001b[39;00m \u001b[39m__next__\u001b[39m(\u001b[39mself\u001b[39m):\n\u001b[1;32m---> <a href='file:///~/Anaconda3/envs/machine_learning/lib/site-packages/tweepy/cursor.py?line=85'>86</a>\u001b[0m     \u001b[39mreturn\u001b[39;00m \u001b[39mself\u001b[39;49m\u001b[39m.\u001b[39;49mnext()\n",
      "File \u001b[1;32m~\\Anaconda3\\envs\\machine_learning\\lib\\site-packages\\tweepy\\cursor.py:167\u001b[0m, in \u001b[0;36mIdIterator.next\u001b[1;34m(self)\u001b[0m\n\u001b[0;32m    <a href='file:///~/Anaconda3/envs/machine_learning/lib/site-packages/tweepy/cursor.py?line=163'>164</a>\u001b[0m     \u001b[39mraise\u001b[39;00m \u001b[39mStopIteration\u001b[39;00m\n\u001b[0;32m    <a href='file:///~/Anaconda3/envs/machine_learning/lib/site-packages/tweepy/cursor.py?line=165'>166</a>\u001b[0m \u001b[39mif\u001b[39;00m \u001b[39mself\u001b[39m\u001b[39m.\u001b[39mindex \u001b[39m>\u001b[39m\u001b[39m=\u001b[39m \u001b[39mlen\u001b[39m(\u001b[39mself\u001b[39m\u001b[39m.\u001b[39mresults) \u001b[39m-\u001b[39m \u001b[39m1\u001b[39m:\n\u001b[1;32m--> <a href='file:///~/Anaconda3/envs/machine_learning/lib/site-packages/tweepy/cursor.py?line=166'>167</a>\u001b[0m     data \u001b[39m=\u001b[39m \u001b[39mself\u001b[39;49m\u001b[39m.\u001b[39;49mmethod(max_id\u001b[39m=\u001b[39;49m\u001b[39mself\u001b[39;49m\u001b[39m.\u001b[39;49mmax_id, parser\u001b[39m=\u001b[39;49mRawParser(), \u001b[39m*\u001b[39;49m\u001b[39mself\u001b[39;49m\u001b[39m.\u001b[39;49margs, \u001b[39m*\u001b[39;49m\u001b[39m*\u001b[39;49m\u001b[39mself\u001b[39;49m\u001b[39m.\u001b[39;49mkwargs)\n\u001b[0;32m    <a href='file:///~/Anaconda3/envs/machine_learning/lib/site-packages/tweepy/cursor.py?line=168'>169</a>\u001b[0m     model \u001b[39m=\u001b[39m ModelParser()\u001b[39m.\u001b[39mparse(\n\u001b[0;32m    <a href='file:///~/Anaconda3/envs/machine_learning/lib/site-packages/tweepy/cursor.py?line=169'>170</a>\u001b[0m         data, api \u001b[39m=\u001b[39m \u001b[39mself\u001b[39m\u001b[39m.\u001b[39mmethod\u001b[39m.\u001b[39m\u001b[39m__self__\u001b[39m,\n\u001b[0;32m    <a href='file:///~/Anaconda3/envs/machine_learning/lib/site-packages/tweepy/cursor.py?line=170'>171</a>\u001b[0m         payload_list\u001b[39m=\u001b[39m\u001b[39mself\u001b[39m\u001b[39m.\u001b[39mmethod\u001b[39m.\u001b[39mpayload_list,\n\u001b[0;32m    <a href='file:///~/Anaconda3/envs/machine_learning/lib/site-packages/tweepy/cursor.py?line=171'>172</a>\u001b[0m         payload_type\u001b[39m=\u001b[39m\u001b[39mself\u001b[39m\u001b[39m.\u001b[39mmethod\u001b[39m.\u001b[39mpayload_type\n\u001b[0;32m    <a href='file:///~/Anaconda3/envs/machine_learning/lib/site-packages/tweepy/cursor.py?line=172'>173</a>\u001b[0m     )\n\u001b[0;32m    <a href='file:///~/Anaconda3/envs/machine_learning/lib/site-packages/tweepy/cursor.py?line=173'>174</a>\u001b[0m     result \u001b[39m=\u001b[39m \u001b[39mself\u001b[39m\u001b[39m.\u001b[39mmethod\u001b[39m.\u001b[39m\u001b[39m__self__\u001b[39m\u001b[39m.\u001b[39mparser\u001b[39m.\u001b[39mparse(\n\u001b[0;32m    <a href='file:///~/Anaconda3/envs/machine_learning/lib/site-packages/tweepy/cursor.py?line=174'>175</a>\u001b[0m         data, api \u001b[39m=\u001b[39m \u001b[39mself\u001b[39m\u001b[39m.\u001b[39mmethod\u001b[39m.\u001b[39m\u001b[39m__self__\u001b[39m,\n\u001b[0;32m    <a href='file:///~/Anaconda3/envs/machine_learning/lib/site-packages/tweepy/cursor.py?line=175'>176</a>\u001b[0m         payload_list\u001b[39m=\u001b[39m\u001b[39mself\u001b[39m\u001b[39m.\u001b[39mmethod\u001b[39m.\u001b[39mpayload_list,\n\u001b[0;32m    <a href='file:///~/Anaconda3/envs/machine_learning/lib/site-packages/tweepy/cursor.py?line=176'>177</a>\u001b[0m         payload_type\u001b[39m=\u001b[39m\u001b[39mself\u001b[39m\u001b[39m.\u001b[39mmethod\u001b[39m.\u001b[39mpayload_type\n\u001b[0;32m    <a href='file:///~/Anaconda3/envs/machine_learning/lib/site-packages/tweepy/cursor.py?line=177'>178</a>\u001b[0m     )\n",
      "File \u001b[1;32m~\\Anaconda3\\envs\\machine_learning\\lib\\site-packages\\tweepy\\api.py:33\u001b[0m, in \u001b[0;36mpagination.<locals>.decorator.<locals>.wrapper\u001b[1;34m(*args, **kwargs)\u001b[0m\n\u001b[0;32m     <a href='file:///~/Anaconda3/envs/machine_learning/lib/site-packages/tweepy/api.py?line=30'>31</a>\u001b[0m \u001b[39m@functools\u001b[39m\u001b[39m.\u001b[39mwraps(method)\n\u001b[0;32m     <a href='file:///~/Anaconda3/envs/machine_learning/lib/site-packages/tweepy/api.py?line=31'>32</a>\u001b[0m \u001b[39mdef\u001b[39;00m \u001b[39mwrapper\u001b[39m(\u001b[39m*\u001b[39margs, \u001b[39m*\u001b[39m\u001b[39m*\u001b[39mkwargs):\n\u001b[1;32m---> <a href='file:///~/Anaconda3/envs/machine_learning/lib/site-packages/tweepy/api.py?line=32'>33</a>\u001b[0m     \u001b[39mreturn\u001b[39;00m method(\u001b[39m*\u001b[39;49margs, \u001b[39m*\u001b[39;49m\u001b[39m*\u001b[39;49mkwargs)\n",
      "File \u001b[1;32m~\\Anaconda3\\envs\\machine_learning\\lib\\site-packages\\tweepy\\api.py:46\u001b[0m, in \u001b[0;36mpayload.<locals>.decorator.<locals>.wrapper\u001b[1;34m(*args, **kwargs)\u001b[0m\n\u001b[0;32m     <a href='file:///~/Anaconda3/envs/machine_learning/lib/site-packages/tweepy/api.py?line=43'>44</a>\u001b[0m kwargs[\u001b[39m'\u001b[39m\u001b[39mpayload_list\u001b[39m\u001b[39m'\u001b[39m] \u001b[39m=\u001b[39m payload_list\n\u001b[0;32m     <a href='file:///~/Anaconda3/envs/machine_learning/lib/site-packages/tweepy/api.py?line=44'>45</a>\u001b[0m kwargs[\u001b[39m'\u001b[39m\u001b[39mpayload_type\u001b[39m\u001b[39m'\u001b[39m] \u001b[39m=\u001b[39m payload_type\n\u001b[1;32m---> <a href='file:///~/Anaconda3/envs/machine_learning/lib/site-packages/tweepy/api.py?line=45'>46</a>\u001b[0m \u001b[39mreturn\u001b[39;00m method(\u001b[39m*\u001b[39;49margs, \u001b[39m*\u001b[39;49m\u001b[39m*\u001b[39;49mkwargs)\n",
      "File \u001b[1;32m~\\Anaconda3\\envs\\machine_learning\\lib\\site-packages\\tweepy\\api.py:1268\u001b[0m, in \u001b[0;36mAPI.search_tweets\u001b[1;34m(self, q, **kwargs)\u001b[0m\n\u001b[0;32m   <a href='file:///~/Anaconda3/envs/machine_learning/lib/site-packages/tweepy/api.py?line=1190'>1191</a>\u001b[0m \u001b[39m@pagination\u001b[39m(mode\u001b[39m=\u001b[39m\u001b[39m'\u001b[39m\u001b[39mid\u001b[39m\u001b[39m'\u001b[39m)\n\u001b[0;32m   <a href='file:///~/Anaconda3/envs/machine_learning/lib/site-packages/tweepy/api.py?line=1191'>1192</a>\u001b[0m \u001b[39m@payload\u001b[39m(\u001b[39m'\u001b[39m\u001b[39msearch_results\u001b[39m\u001b[39m'\u001b[39m)\n\u001b[0;32m   <a href='file:///~/Anaconda3/envs/machine_learning/lib/site-packages/tweepy/api.py?line=1192'>1193</a>\u001b[0m \u001b[39mdef\u001b[39;00m \u001b[39msearch_tweets\u001b[39m(\u001b[39mself\u001b[39m, q, \u001b[39m*\u001b[39m\u001b[39m*\u001b[39mkwargs):\n\u001b[0;32m   <a href='file:///~/Anaconda3/envs/machine_learning/lib/site-packages/tweepy/api.py?line=1193'>1194</a>\u001b[0m     \u001b[39m\"\"\"search_tweets(q, *, geocode, lang, locale, result_type, count, \\\u001b[39;00m\n\u001b[0;32m   <a href='file:///~/Anaconda3/envs/machine_learning/lib/site-packages/tweepy/api.py?line=1194'>1195</a>\u001b[0m \u001b[39m                     until, since_id, max_id, include_entities)\u001b[39;00m\n\u001b[0;32m   <a href='file:///~/Anaconda3/envs/machine_learning/lib/site-packages/tweepy/api.py?line=1195'>1196</a>\u001b[0m \n\u001b[1;32m   (...)\u001b[0m\n\u001b[0;32m   <a href='file:///~/Anaconda3/envs/machine_learning/lib/site-packages/tweepy/api.py?line=1265'>1266</a>\u001b[0m \u001b[39m    https://developer.twitter.com/en/docs/twitter-api/v1/tweets/search/api-reference/get-search-tweets\u001b[39;00m\n\u001b[0;32m   <a href='file:///~/Anaconda3/envs/machine_learning/lib/site-packages/tweepy/api.py?line=1266'>1267</a>\u001b[0m \u001b[39m    \"\"\"\u001b[39;00m\n\u001b[1;32m-> <a href='file:///~/Anaconda3/envs/machine_learning/lib/site-packages/tweepy/api.py?line=1267'>1268</a>\u001b[0m     \u001b[39mreturn\u001b[39;00m \u001b[39mself\u001b[39;49m\u001b[39m.\u001b[39;49mrequest(\n\u001b[0;32m   <a href='file:///~/Anaconda3/envs/machine_learning/lib/site-packages/tweepy/api.py?line=1268'>1269</a>\u001b[0m         \u001b[39m'\u001b[39;49m\u001b[39mGET\u001b[39;49m\u001b[39m'\u001b[39;49m, \u001b[39m'\u001b[39;49m\u001b[39msearch/tweets\u001b[39;49m\u001b[39m'\u001b[39;49m, endpoint_parameters\u001b[39m=\u001b[39;49m(\n\u001b[0;32m   <a href='file:///~/Anaconda3/envs/machine_learning/lib/site-packages/tweepy/api.py?line=1269'>1270</a>\u001b[0m             \u001b[39m'\u001b[39;49m\u001b[39mq\u001b[39;49m\u001b[39m'\u001b[39;49m, \u001b[39m'\u001b[39;49m\u001b[39mgeocode\u001b[39;49m\u001b[39m'\u001b[39;49m, \u001b[39m'\u001b[39;49m\u001b[39mlang\u001b[39;49m\u001b[39m'\u001b[39;49m, \u001b[39m'\u001b[39;49m\u001b[39mlocale\u001b[39;49m\u001b[39m'\u001b[39;49m, \u001b[39m'\u001b[39;49m\u001b[39mresult_type\u001b[39;49m\u001b[39m'\u001b[39;49m, \u001b[39m'\u001b[39;49m\u001b[39mcount\u001b[39;49m\u001b[39m'\u001b[39;49m,\n\u001b[0;32m   <a href='file:///~/Anaconda3/envs/machine_learning/lib/site-packages/tweepy/api.py?line=1270'>1271</a>\u001b[0m             \u001b[39m'\u001b[39;49m\u001b[39muntil\u001b[39;49m\u001b[39m'\u001b[39;49m, \u001b[39m'\u001b[39;49m\u001b[39msince_id\u001b[39;49m\u001b[39m'\u001b[39;49m, \u001b[39m'\u001b[39;49m\u001b[39mmax_id\u001b[39;49m\u001b[39m'\u001b[39;49m, \u001b[39m'\u001b[39;49m\u001b[39minclude_entities\u001b[39;49m\u001b[39m'\u001b[39;49m\n\u001b[0;32m   <a href='file:///~/Anaconda3/envs/machine_learning/lib/site-packages/tweepy/api.py?line=1271'>1272</a>\u001b[0m         ), q\u001b[39m=\u001b[39;49mq, \u001b[39m*\u001b[39;49m\u001b[39m*\u001b[39;49mkwargs\n\u001b[0;32m   <a href='file:///~/Anaconda3/envs/machine_learning/lib/site-packages/tweepy/api.py?line=1272'>1273</a>\u001b[0m     )\n",
      "File \u001b[1;32m~\\Anaconda3\\envs\\machine_learning\\lib\\site-packages\\tweepy\\api.py:222\u001b[0m, in \u001b[0;36mAPI.request\u001b[1;34m(self, method, endpoint, endpoint_parameters, params, headers, json_payload, parser, payload_list, payload_type, post_data, files, require_auth, return_cursors, upload_api, use_cache, **kwargs)\u001b[0m\n\u001b[0;32m    <a href='file:///~/Anaconda3/envs/machine_learning/lib/site-packages/tweepy/api.py?line=215'>216</a>\u001b[0m     resp \u001b[39m=\u001b[39m \u001b[39mself\u001b[39m\u001b[39m.\u001b[39msession\u001b[39m.\u001b[39mrequest(\n\u001b[0;32m    <a href='file:///~/Anaconda3/envs/machine_learning/lib/site-packages/tweepy/api.py?line=216'>217</a>\u001b[0m         method, url, params\u001b[39m=\u001b[39mparams, headers\u001b[39m=\u001b[39mheaders,\n\u001b[0;32m    <a href='file:///~/Anaconda3/envs/machine_learning/lib/site-packages/tweepy/api.py?line=217'>218</a>\u001b[0m         data\u001b[39m=\u001b[39mpost_data, files\u001b[39m=\u001b[39mfiles, json\u001b[39m=\u001b[39mjson_payload,\n\u001b[0;32m    <a href='file:///~/Anaconda3/envs/machine_learning/lib/site-packages/tweepy/api.py?line=218'>219</a>\u001b[0m         timeout\u001b[39m=\u001b[39m\u001b[39mself\u001b[39m\u001b[39m.\u001b[39mtimeout, auth\u001b[39m=\u001b[39mauth, proxies\u001b[39m=\u001b[39m\u001b[39mself\u001b[39m\u001b[39m.\u001b[39mproxy\n\u001b[0;32m    <a href='file:///~/Anaconda3/envs/machine_learning/lib/site-packages/tweepy/api.py?line=219'>220</a>\u001b[0m     )\n\u001b[0;32m    <a href='file:///~/Anaconda3/envs/machine_learning/lib/site-packages/tweepy/api.py?line=220'>221</a>\u001b[0m \u001b[39mexcept\u001b[39;00m \u001b[39mException\u001b[39;00m \u001b[39mas\u001b[39;00m e:\n\u001b[1;32m--> <a href='file:///~/Anaconda3/envs/machine_learning/lib/site-packages/tweepy/api.py?line=221'>222</a>\u001b[0m     \u001b[39mraise\u001b[39;00m TweepyException(\u001b[39mf\u001b[39m\u001b[39m'\u001b[39m\u001b[39mFailed to send request: \u001b[39m\u001b[39m{\u001b[39;00me\u001b[39m}\u001b[39;00m\u001b[39m'\u001b[39m)\u001b[39m.\u001b[39mwith_traceback(sys\u001b[39m.\u001b[39mexc_info()[\u001b[39m2\u001b[39m])\n\u001b[0;32m    <a href='file:///~/Anaconda3/envs/machine_learning/lib/site-packages/tweepy/api.py?line=223'>224</a>\u001b[0m \u001b[39mif\u001b[39;00m \u001b[39m200\u001b[39m \u001b[39m<\u001b[39m\u001b[39m=\u001b[39m resp\u001b[39m.\u001b[39mstatus_code \u001b[39m<\u001b[39m \u001b[39m300\u001b[39m:\n\u001b[0;32m    <a href='file:///~/Anaconda3/envs/machine_learning/lib/site-packages/tweepy/api.py?line=224'>225</a>\u001b[0m     \u001b[39mbreak\u001b[39;00m\n",
      "File \u001b[1;32m~\\Anaconda3\\envs\\machine_learning\\lib\\site-packages\\tweepy\\api.py:216\u001b[0m, in \u001b[0;36mAPI.request\u001b[1;34m(self, method, endpoint, endpoint_parameters, params, headers, json_payload, parser, payload_list, payload_type, post_data, files, require_auth, return_cursors, upload_api, use_cache, **kwargs)\u001b[0m\n\u001b[0;32m    <a href='file:///~/Anaconda3/envs/machine_learning/lib/site-packages/tweepy/api.py?line=213'>214</a>\u001b[0m \u001b[39m# Execute request\u001b[39;00m\n\u001b[0;32m    <a href='file:///~/Anaconda3/envs/machine_learning/lib/site-packages/tweepy/api.py?line=214'>215</a>\u001b[0m \u001b[39mtry\u001b[39;00m:\n\u001b[1;32m--> <a href='file:///~/Anaconda3/envs/machine_learning/lib/site-packages/tweepy/api.py?line=215'>216</a>\u001b[0m     resp \u001b[39m=\u001b[39m \u001b[39mself\u001b[39;49m\u001b[39m.\u001b[39;49msession\u001b[39m.\u001b[39;49mrequest(\n\u001b[0;32m    <a href='file:///~/Anaconda3/envs/machine_learning/lib/site-packages/tweepy/api.py?line=216'>217</a>\u001b[0m         method, url, params\u001b[39m=\u001b[39;49mparams, headers\u001b[39m=\u001b[39;49mheaders,\n\u001b[0;32m    <a href='file:///~/Anaconda3/envs/machine_learning/lib/site-packages/tweepy/api.py?line=217'>218</a>\u001b[0m         data\u001b[39m=\u001b[39;49mpost_data, files\u001b[39m=\u001b[39;49mfiles, json\u001b[39m=\u001b[39;49mjson_payload,\n\u001b[0;32m    <a href='file:///~/Anaconda3/envs/machine_learning/lib/site-packages/tweepy/api.py?line=218'>219</a>\u001b[0m         timeout\u001b[39m=\u001b[39;49m\u001b[39mself\u001b[39;49m\u001b[39m.\u001b[39;49mtimeout, auth\u001b[39m=\u001b[39;49mauth, proxies\u001b[39m=\u001b[39;49m\u001b[39mself\u001b[39;49m\u001b[39m.\u001b[39;49mproxy\n\u001b[0;32m    <a href='file:///~/Anaconda3/envs/machine_learning/lib/site-packages/tweepy/api.py?line=219'>220</a>\u001b[0m     )\n\u001b[0;32m    <a href='file:///~/Anaconda3/envs/machine_learning/lib/site-packages/tweepy/api.py?line=220'>221</a>\u001b[0m \u001b[39mexcept\u001b[39;00m \u001b[39mException\u001b[39;00m \u001b[39mas\u001b[39;00m e:\n\u001b[0;32m    <a href='file:///~/Anaconda3/envs/machine_learning/lib/site-packages/tweepy/api.py?line=221'>222</a>\u001b[0m     \u001b[39mraise\u001b[39;00m TweepyException(\u001b[39mf\u001b[39m\u001b[39m'\u001b[39m\u001b[39mFailed to send request: \u001b[39m\u001b[39m{\u001b[39;00me\u001b[39m}\u001b[39;00m\u001b[39m'\u001b[39m)\u001b[39m.\u001b[39mwith_traceback(sys\u001b[39m.\u001b[39mexc_info()[\u001b[39m2\u001b[39m])\n",
      "File \u001b[1;32m~\\Anaconda3\\envs\\machine_learning\\lib\\site-packages\\requests\\sessions.py:529\u001b[0m, in \u001b[0;36mSession.request\u001b[1;34m(self, method, url, params, data, headers, cookies, files, auth, timeout, allow_redirects, proxies, hooks, stream, verify, cert, json)\u001b[0m\n\u001b[0;32m    <a href='file:///~/Anaconda3/envs/machine_learning/lib/site-packages/requests/sessions.py?line=523'>524</a>\u001b[0m send_kwargs \u001b[39m=\u001b[39m {\n\u001b[0;32m    <a href='file:///~/Anaconda3/envs/machine_learning/lib/site-packages/requests/sessions.py?line=524'>525</a>\u001b[0m     \u001b[39m'\u001b[39m\u001b[39mtimeout\u001b[39m\u001b[39m'\u001b[39m: timeout,\n\u001b[0;32m    <a href='file:///~/Anaconda3/envs/machine_learning/lib/site-packages/requests/sessions.py?line=525'>526</a>\u001b[0m     \u001b[39m'\u001b[39m\u001b[39mallow_redirects\u001b[39m\u001b[39m'\u001b[39m: allow_redirects,\n\u001b[0;32m    <a href='file:///~/Anaconda3/envs/machine_learning/lib/site-packages/requests/sessions.py?line=526'>527</a>\u001b[0m }\n\u001b[0;32m    <a href='file:///~/Anaconda3/envs/machine_learning/lib/site-packages/requests/sessions.py?line=527'>528</a>\u001b[0m send_kwargs\u001b[39m.\u001b[39mupdate(settings)\n\u001b[1;32m--> <a href='file:///~/Anaconda3/envs/machine_learning/lib/site-packages/requests/sessions.py?line=528'>529</a>\u001b[0m resp \u001b[39m=\u001b[39m \u001b[39mself\u001b[39;49m\u001b[39m.\u001b[39;49msend(prep, \u001b[39m*\u001b[39;49m\u001b[39m*\u001b[39;49msend_kwargs)\n\u001b[0;32m    <a href='file:///~/Anaconda3/envs/machine_learning/lib/site-packages/requests/sessions.py?line=530'>531</a>\u001b[0m \u001b[39mreturn\u001b[39;00m resp\n",
      "File \u001b[1;32m~\\Anaconda3\\envs\\machine_learning\\lib\\site-packages\\requests\\sessions.py:645\u001b[0m, in \u001b[0;36mSession.send\u001b[1;34m(self, request, **kwargs)\u001b[0m\n\u001b[0;32m    <a href='file:///~/Anaconda3/envs/machine_learning/lib/site-packages/requests/sessions.py?line=641'>642</a>\u001b[0m start \u001b[39m=\u001b[39m preferred_clock()\n\u001b[0;32m    <a href='file:///~/Anaconda3/envs/machine_learning/lib/site-packages/requests/sessions.py?line=643'>644</a>\u001b[0m \u001b[39m# Send the request\u001b[39;00m\n\u001b[1;32m--> <a href='file:///~/Anaconda3/envs/machine_learning/lib/site-packages/requests/sessions.py?line=644'>645</a>\u001b[0m r \u001b[39m=\u001b[39m adapter\u001b[39m.\u001b[39;49msend(request, \u001b[39m*\u001b[39;49m\u001b[39m*\u001b[39;49mkwargs)\n\u001b[0;32m    <a href='file:///~/Anaconda3/envs/machine_learning/lib/site-packages/requests/sessions.py?line=646'>647</a>\u001b[0m \u001b[39m# Total elapsed time of the request (approximately)\u001b[39;00m\n\u001b[0;32m    <a href='file:///~/Anaconda3/envs/machine_learning/lib/site-packages/requests/sessions.py?line=647'>648</a>\u001b[0m elapsed \u001b[39m=\u001b[39m preferred_clock() \u001b[39m-\u001b[39m start\n",
      "File \u001b[1;32m~\\Anaconda3\\envs\\machine_learning\\lib\\site-packages\\requests\\adapters.py:519\u001b[0m, in \u001b[0;36mHTTPAdapter.send\u001b[1;34m(self, request, stream, timeout, verify, cert, proxies)\u001b[0m\n\u001b[0;32m    <a href='file:///~/Anaconda3/envs/machine_learning/lib/site-packages/requests/adapters.py?line=514'>515</a>\u001b[0m     \u001b[39mif\u001b[39;00m \u001b[39misinstance\u001b[39m(e\u001b[39m.\u001b[39mreason, _SSLError):\n\u001b[0;32m    <a href='file:///~/Anaconda3/envs/machine_learning/lib/site-packages/requests/adapters.py?line=515'>516</a>\u001b[0m         \u001b[39m# This branch is for urllib3 v1.22 and later.\u001b[39;00m\n\u001b[0;32m    <a href='file:///~/Anaconda3/envs/machine_learning/lib/site-packages/requests/adapters.py?line=516'>517</a>\u001b[0m         \u001b[39mraise\u001b[39;00m SSLError(e, request\u001b[39m=\u001b[39mrequest)\n\u001b[1;32m--> <a href='file:///~/Anaconda3/envs/machine_learning/lib/site-packages/requests/adapters.py?line=518'>519</a>\u001b[0m     \u001b[39mraise\u001b[39;00m \u001b[39mConnectionError\u001b[39;00m(e, request\u001b[39m=\u001b[39mrequest)\n\u001b[0;32m    <a href='file:///~/Anaconda3/envs/machine_learning/lib/site-packages/requests/adapters.py?line=520'>521</a>\u001b[0m \u001b[39mexcept\u001b[39;00m ClosedPoolError \u001b[39mas\u001b[39;00m e:\n\u001b[0;32m    <a href='file:///~/Anaconda3/envs/machine_learning/lib/site-packages/requests/adapters.py?line=521'>522</a>\u001b[0m     \u001b[39mraise\u001b[39;00m \u001b[39mConnectionError\u001b[39;00m(e, request\u001b[39m=\u001b[39mrequest)\n",
      "\u001b[1;31mTweepyException\u001b[0m: Failed to send request: HTTPSConnectionPool(host='api.twitter.com', port=443): Max retries exceeded with url: /1.1/search/tweets.json?q=CarolCastroReal&max_id=1497213177360179200 (Caused by NewConnectionError('<urllib3.connection.HTTPSConnection object at 0x000001CA91609A60>: Failed to establish a new connection: [WinError 10060] Uma tentativa de conexão falhou porque o componente conectado não respondeu\\r\\ncorretamente após um período de tempo ou a conexão estabelecida falhou\\r\\nporque o host conectado não respondeu'))"
     ]
    }
   ],
   "source": [
    "for famoso in famosos:\n",
    "    tweets = tw.Cursor(api.search_tweets, q=famoso).items(20)\n",
    "    \n",
    "    print(\"Autor: \", famoso)\n",
    "    print(\"imagens postadas: \")\n",
    "\n",
    "    for tweet in tweets:\n",
    "        if 'media' in tweet.entities:\n",
    "            print(tweet.entities['media'][0]['media_url'])\n",
    "            print(\"------\", end=\"\\n\\n\")"
   ]
  },
  {
   "cell_type": "markdown",
   "metadata": {},
   "source": [
    "### Streaming\n",
    "\n",
    "*Obs: Biblioteca sofreu alteraçãoes e o método StreamListener foi fundido ao Stream, conforme [link](https://github.com/tweepy/tweepy/releases/tag/v4.0.0) no GitHub*\n",
    "\n",
    "Um exemplo prático de utilização de Streaming pode ser encontrado aqui nesse [link](https://docs.tweepy.org/en/v4.4.0/examples.html?tab=Streaming).\n",
    "\n",
    "Importante notar a diferença entre a API de Search e Streaming, sendo que a primeira retorna os dados históricos enquanto a segunda recupera tweets postados em tempo real."
   ]
  },
  {
   "cell_type": "code",
   "execution_count": null,
   "metadata": {},
   "outputs": [],
   "source": [
    "# class MinhaStreamListener(tw.Stream):\n",
    "#     def on_status(self,status):\n",
    "#         print(status.user.screen_name)\n",
    "#         print(status.text)\n",
    "#         print('-'*5)\n",
    "#         print('\\n')\n",
    "\n",
    "# minhaStream = MinhaStreamListener(consumer_key,consumer_secret,access_token,access_token_secret)\n",
    "# minhaStream.filter(track=famosos)\n"
   ]
  },
  {
   "cell_type": "markdown",
   "metadata": {},
   "source": [
    "## 03. Configurando a Vision API\n",
    "\n",
    "*Obs: O curso mudou muito nessa parte, o ideal seria fazer um \"preparando ambiente\" e usar a resposta do Afonso que está nesse [link](https://cursos.alura.com.br/forum/topico-configuracao-conta-azure-microsoft-com-a-visao-computacional-172173)*"
   ]
  },
  {
   "cell_type": "markdown",
   "metadata": {},
   "source": [
    "\n",
    "### Minhas chaves visao-twitter-regiao\n",
    "\n",
    "CHAVE 1: 29b501495b0d459799fa997ff76260ef\n",
    "\n",
    "CHAVE 2: 51d91a00464045138289d01b5be1081b\n",
    "\n",
    "Ponto de extremidade: https://visao-twitter-regiao.cognitiveservices.azure.com/\n",
    "\n",
    "\n",
    "[Início rápido: usar a biblioteca de clientes ou a API REST de OCR (reconhecimento óptico de caracteres)](https://docs.microsoft.com/pt-br/azure/cognitive-services/Computer-vision/quickstarts-sdk/client-library?pivots=programming-language-python&tabs=visual-studio)"
   ]
  },
  {
   "cell_type": "code",
   "execution_count": null,
   "metadata": {},
   "outputs": [],
   "source": [
    "# !pip install azure-cognitiveservices-vision-computervision"
   ]
  },
  {
   "cell_type": "code",
   "execution_count": 13,
   "metadata": {},
   "outputs": [],
   "source": [
    "from azure.cognitiveservices.vision.computervision import ComputerVisionClient\n",
    "from msrest.authentication import CognitiveServicesCredentials"
   ]
  },
  {
   "cell_type": "code",
   "execution_count": 14,
   "metadata": {},
   "outputs": [],
   "source": [
    "credenciais = CognitiveServicesCredentials('29b501495b0d459799fa997ff76260ef')"
   ]
  },
  {
   "cell_type": "code",
   "execution_count": 15,
   "metadata": {},
   "outputs": [],
   "source": [
    "client = ComputerVisionClient(\"https://visao-twitter-regiao.cognitiveservices.azure.com/\", credenciais)"
   ]
  },
  {
   "cell_type": "code",
   "execution_count": 16,
   "metadata": {},
   "outputs": [
    {
     "data": {
      "text/plain": [
       "'3.2'"
      ]
     },
     "execution_count": 16,
     "metadata": {},
     "output_type": "execute_result"
    }
   ],
   "source": [
    "client.api_version"
   ]
  },
  {
   "cell_type": "markdown",
   "metadata": {},
   "source": [
    "### Imagem teste:\n",
    "\n",
    "![Imagem do Arthur Aguiar no BBB22](http://pbs.twimg.com/media/FMcjOTKXoAE2EqP.jpg)"
   ]
  },
  {
   "cell_type": "markdown",
   "metadata": {},
   "source": [
    "## 04. Streaming + Vision API"
   ]
  },
  {
   "cell_type": "code",
   "execution_count": 55,
   "metadata": {},
   "outputs": [
    {
     "name": "stdout",
     "output_type": "stream",
     "text": [
      "human face\n",
      "person\n",
      "smile\n",
      "clothing\n",
      "man\n",
      "smiling\n",
      "indoor\n"
     ]
    }
   ],
   "source": [
    "from azure.cognitiveservices.vision.computervision.models import VisualFeatureTypes\n",
    "\n",
    "# Testei com outra imagem, mas funciona do mesmo jeito\n",
    "url = \"http://pbs.twimg.com/media/FMcjOTKXoAE2EqP.jpg\"\n",
    "\n",
    "# Usando [ ], pois o parâmetro visual_features recebe uma lista\n",
    "analise_de_imagem = client.analyze_image(url, visual_features = [VisualFeatureTypes.tags])\n",
    "\n",
    "for tag in analise_de_imagem.tags:\n",
    "    print(tag.name)"
   ]
  },
  {
   "cell_type": "code",
   "execution_count": 18,
   "metadata": {},
   "outputs": [],
   "source": [
    "analise_celebridades = client.analyze_image_by_domain(\"celebrities\", url, \"en\")"
   ]
  },
  {
   "cell_type": "code",
   "execution_count": 19,
   "metadata": {},
   "outputs": [
    {
     "name": "stdout",
     "output_type": "stream",
     "text": [
      "Arthur Aguiar\n",
      "0.9999988079071045\n"
     ]
    }
   ],
   "source": [
    "for celebridade in analise_celebridades.result['celebrities']:\n",
    "    print(celebridade['name'])\n",
    "    print(celebridade['confidence'])"
   ]
  },
  {
   "cell_type": "code",
   "execution_count": 20,
   "metadata": {},
   "outputs": [],
   "source": [
    "descricao = client.describe_image(url, 3, \"en\")"
   ]
  },
  {
   "cell_type": "code",
   "execution_count": 21,
   "metadata": {},
   "outputs": [
    {
     "data": {
      "text/plain": [
       "'Arthur Aguiar sitting in a chair'"
      ]
     },
     "execution_count": 21,
     "metadata": {},
     "output_type": "execute_result"
    }
   ],
   "source": [
    "descricao.captions[0].text"
   ]
  },
  {
   "cell_type": "markdown",
   "metadata": {},
   "source": [
    "### Streaming +Vision API"
   ]
  },
  {
   "cell_type": "code",
   "execution_count": 22,
   "metadata": {},
   "outputs": [],
   "source": [
    "class MinhaStreamListener(tw.Stream):\n",
    "    def on_status(self,status):\n",
    "        print(\"Usuário: \", status.user.screen_name)\n",
    "        print(\"Texto: \", status.text)\n",
    "        \n",
    "        if 'media' in status.entities:\n",
    "            url = status.entities['media'][0]['media_url']\n",
    "            print(\"URL: \", url)\n",
    "            \n",
    "            analise_celebridades = client.analyze_image_by_domain(\"celebrities\", url, \"en\")\n",
    "            \n",
    "            lista_celebridades = [celebridade['name'] for celebridade in analise_celebridades.result['celebrities']]\n",
    "                            \n",
    "            descricao = client.describe_image(url, 1, \"en\")\n",
    "            texto_descricao = descricao.captions[0].text\n",
    "            print(\"Descrição: \", texto_descricao)\n",
    "        \n",
    "        print('-'*5)\n",
    "        print('\\n')"
   ]
  },
  {
   "cell_type": "code",
   "execution_count": 23,
   "metadata": {},
   "outputs": [],
   "source": [
    "minhaStream = None"
   ]
  },
  {
   "cell_type": "code",
   "execution_count": null,
   "metadata": {},
   "outputs": [],
   "source": [
    "minhaStream = MinhaStreamListener(consumer_key,consumer_secret,access_token,access_token_secret)\n",
    "minhaStream.filter(follow=['1938224406'])"
   ]
  },
  {
   "cell_type": "code",
   "execution_count": 24,
   "metadata": {},
   "outputs": [],
   "source": [
    "minhaStream"
   ]
  },
  {
   "cell_type": "markdown",
   "metadata": {},
   "source": [
    "## 05. Avaliando os Resultados"
   ]
  },
  {
   "cell_type": "markdown",
   "metadata": {},
   "source": [
    "Atualizar a lista de famosos pois a Cléo pires mudou o usuario para cleo, e aí gera um erro\n",
    "\n",
    "Atualizar também que não aceita mais tag['name'] tem que ser tag.name"
   ]
  },
  {
   "cell_type": "code",
   "execution_count": 39,
   "metadata": {},
   "outputs": [],
   "source": [
    "famosos_id = []\n",
    "\n",
    "for famoso in famosos:\n",
    "    famoso_id = api.get_user(screen_name=famoso).id_str\n",
    "    famosos_id.append(famoso_id)"
   ]
  },
  {
   "cell_type": "code",
   "execution_count": 40,
   "metadata": {},
   "outputs": [
    {
     "data": {
      "text/plain": [
       "['246591347',\n",
       " '72131142',\n",
       " '14502789',\n",
       " '48332360',\n",
       " '158487331',\n",
       " '58603510',\n",
       " '125432895',\n",
       " '50821343',\n",
       " '62557485',\n",
       " '510877109',\n",
       " '56482694',\n",
       " '136140018',\n",
       " '34171224',\n",
       " '43394391',\n",
       " '126676337',\n",
       " '141817380',\n",
       " '90052937',\n",
       " '142448465',\n",
       " '2203709322',\n",
       " '275220311',\n",
       " '1259655834650501121',\n",
       " '139612761',\n",
       " '24209365',\n",
       " '75082334',\n",
       " '59932653',\n",
       " '219112689',\n",
       " '94170264',\n",
       " '163972875',\n",
       " '163601846',\n",
       " '68839460',\n",
       " '764565242']"
      ]
     },
     "execution_count": 40,
     "metadata": {},
     "output_type": "execute_result"
    }
   ],
   "source": [
    "famosos_id"
   ]
  },
  {
   "cell_type": "code",
   "execution_count": 41,
   "metadata": {},
   "outputs": [],
   "source": [
    "import json"
   ]
  },
  {
   "cell_type": "code",
   "execution_count": 56,
   "metadata": {},
   "outputs": [],
   "source": [
    "class MinhaStreamListener(tw.Stream):\n",
    "    def on_status(self,status):\n",
    "        print(\"Usuário: \", status.user.screen_name)\n",
    "        print(\"Texto: \", status.text)\n",
    "        \n",
    "        if 'media' in status.entities:\n",
    "            url = status.entities['media'][0]['media_url']\n",
    "            print(\"URL: \", url)\n",
    "            \n",
    "            analise_celebridades = client.analyze_image_by_domain(\"celebrities\", url, \"en\")\n",
    "            lista_celebridades = [celebridade['name'] for celebridade in analise_celebridades.result['celebrities']]\n",
    "            print(lista_celebridades)\n",
    "                            \n",
    "            descricao = client.describe_image(url, 1, \"en\")\n",
    "            texto_descricao = descricao.captions[0].text\n",
    "            print(\"Descrição: \", texto_descricao)\n",
    "            \n",
    "            analise_de_imagem = client.analyze_image(url, visual_features = [VisualFeatureTypes.tags])\n",
    "            lista_tags = [tag.name for tag in analise_de_imagem.tags] \n",
    "            print(\"Tags: \", lista_tags)\n",
    "            \n",
    "            resultados = {\n",
    "                \"usuario\": status.user.screen_name,\n",
    "                \"texto\": status.text,\n",
    "                \"url\": url,\n",
    "                \"celebridades\": lista_celebridades,\n",
    "                \"descricao\": texto_descricao,\n",
    "                \"tags\": lista_tags\n",
    "            }\n",
    "            \n",
    "            with open('tweets.txt', 'a') as arquivo:\n",
    "                arquivo.write(json.dumps(resultados) + '\\n')\n",
    "\n",
    "        \n",
    "        print('-'*5)\n",
    "        print('\\n')"
   ]
  },
  {
   "cell_type": "code",
   "execution_count": 57,
   "metadata": {},
   "outputs": [],
   "source": [
    "minhaStream = None"
   ]
  },
  {
   "cell_type": "code",
   "execution_count": 58,
   "metadata": {},
   "outputs": [],
   "source": [
    "minhaStream = MinhaStreamListener(consumer_key,consumer_secret,access_token,access_token_secret)"
   ]
  },
  {
   "cell_type": "code",
   "execution_count": 59,
   "metadata": {},
   "outputs": [
    {
     "name": "stdout",
     "output_type": "stream",
     "text": [
      "Usuário:  dablio_1324\n",
      "Texto:  RT @Aguiarthur: EU AMO QUANDO ELES CANTAM SOLUÇÃO 🥺 https://t.co/LnuEgE1fic\n",
      "URL:  http://pbs.twimg.com/ext_tw_video_thumb/1499214870440554496/pu/img/i2zCjlgpwpAhrEaB.jpg\n",
      "[]\n",
      "Descrição:  a person playing guitar next to a person singing into a microphone\n",
      "Tags:  ['person', 'clothing', 'human face', 'man', 'concert', 'musical instrument', 'musician', 'entertainment', 'guitar', 'people']\n",
      "-----\n",
      "\n",
      "\n",
      "Usuário:  KatiaKayla\n",
      "Texto:  RT @Aguiarthur: ✨ FOLLOW TRICK DO #TeamAguiar  ✨\n",
      "\n",
      "- RT e FAV\n",
      "- Comente o emoji ✨\n",
      "- Siga quem deu RT e FAV nesse tweet \n",
      "- Siga quem curtir s…\n",
      "-----\n",
      "\n",
      "\n",
      "Usuário:  thayylp_\n",
      "Texto:  @Aguiarthur Eu já!!! #TutysDay inclusive, podia me seguir né adm 🥺\n",
      "-----\n",
      "\n",
      "\n",
      "Usuário:  biquinni7843\n",
      "Texto:  @Aguiarthur Parabéns felicidades sorte hoje na prova do líder e coloque a Jade no Paredão 🎂❤️👏👏👏👏\n",
      "-----\n",
      "\n",
      "\n",
      "Usuário:  ThurMeuNindo\n",
      "Texto:  @Aguiarthur coloquei ontemmm!\n",
      " bem graças a Deus #TutysDay\n",
      "-----\n",
      "\n",
      "\n",
      "Usuário:  llorenab_\n",
      "Texto:  RT @thutinatica: Feliz aniversário, meu menino! #TutysDay https://t.co/kNkYC77FDM\n",
      "URL:  http://pbs.twimg.com/media/FM5j_CVX0AMcRLx.jpg\n",
      "['Arthur Aguiar', 'Arthur Aguiar', 'Arthur Aguiar', 'Arthur Aguiar', 'Arthur Aguiar']\n",
      "Descrição:  Arthur Aguiar, Arthur Aguiar, Arthur Aguiar, Arthur Aguiar, Arthur Aguiar et al. are posing for a picture\n",
      "Tags:  ['human face', 'boy', 'person', 'collage', 'clothing', 'smile', 'man', 'photomontage']\n",
      "-----\n",
      "\n",
      "\n",
      "Usuário:  juuulp07\n",
      "Texto:  RT @Aguiarthur: ARTHUR CANTANDO PROJOTA AAAAAAAAAAAAA https://t.co/afKKq8tInS\n",
      "URL:  http://pbs.twimg.com/ext_tw_video_thumb/1499216463978278917/pu/img/-RcM-2l5HT7cCOPU.jpg\n",
      "[]\n",
      "Descrição:  a group of people on a stage\n",
      "Tags:  ['clothing', 'person', 'footwear', 'woman', 'screenshot', 'purple', 'game', 'people']\n",
      "-----\n",
      "\n",
      "\n",
      "Usuário:  littlebadliar02\n",
      "Texto:  RT @maisa: Me chamem de doida mas eu tô me achando mt diferente fisicamente da anita KKKKK realmente tava com cara de 15 anos pq a galera d…\n",
      "-----\n",
      "\n",
      "\n",
      "Usuário:  lmercedesm\n",
      "Texto:  RT @Anitta: Obvio as duas eu escrevi junto com eles nos dias mas com certeza eles que iniciaram a ideia nas duas ocasiões\n",
      "-----\n",
      "\n",
      "\n",
      "Usuário:  silvanaviana55\n",
      "Texto:  @Aguiarthur TORCENDO MUITOOO POR ISSO!!!\n",
      "ARTHUR CAMPEÃO!!!\n",
      "-----\n",
      "\n",
      "\n",
      "Usuário:  phmrss\n",
      "Texto:  @Aguiarthur Amou adm? https://t.co/YLa1F40v75\n",
      "URL:  http://pbs.twimg.com/media/FM7lD3YWQA4HzVX.jpg\n",
      "[]\n",
      "Descrição:  graphical user interface, text, application\n",
      "Tags:  ['text', 'human face', 'screenshot', 'man']\n",
      "-----\n",
      "\n",
      "\n",
      "Usuário:  wellcomentz\n",
      "Texto:  @Aguiarthur #TutysDay ✨💛\n",
      "https://t.co/356w0tsxP7\n",
      "-----\n",
      "\n",
      "\n",
      "Usuário:  littlebadliar02\n",
      "Texto:  RT @Aguiarthur: FELIZ ANIVERSÁRIO ARTHUR! 🥳 #TutysDay https://t.co/VSrgbIwl8H\n",
      "URL:  http://pbs.twimg.com/media/FM5LSQfXEAYoXA8.jpg\n",
      "[]\n",
      "Descrição:  a person with dark hair\n",
      "Tags:  ['human face', 'person', 'portrait', 'eyebrow', 'boy', 'neck', 'chin', 'cheek', 'clothing', 'forehead', 'lip', 'portrait photography', 'crop', 'skin', 'eyelash']\n",
      "-----\n",
      "\n",
      "\n",
      "Usuário:  dontspeakMen\n",
      "Texto:  @Aguiarthur toca muito😅😂🙃\n",
      "-----\n",
      "\n",
      "\n",
      "Usuário:  nsahurrea\n",
      "Texto:  @Aguiarthur ele é\n",
      "-----\n",
      "\n",
      "\n",
      "Usuário:  littlebadliar02\n",
      "Texto:  RT @maisa: Vcs só sabem pedir segunda temporada ninguém fala um bom dia mais 🥺😔\n",
      "-----\n",
      "\n",
      "\n",
      "Usuário:  TicianeeDeus\n",
      "Texto:  @ahickmann OI FLOR BOM DIA\n",
      "-----\n",
      "\n",
      "\n",
      "Usuário:  ariellyteresaa\n",
      "Texto:  RT @Aguiarthur: FELIZ ANIVERSÁRIO ARTHUR! 🥳 #TutysDay https://t.co/VSrgbIwl8H\n",
      "URL:  http://pbs.twimg.com/media/FM5LSQfXEAYoXA8.jpg\n",
      "[]\n",
      "Descrição:  a person with dark hair\n",
      "Tags:  ['human face', 'person', 'portrait', 'eyebrow', 'boy', 'neck', 'chin', 'cheek', 'clothing', 'forehead', 'lip', 'portrait photography', 'crop', 'skin', 'eyelash']\n",
      "-----\n",
      "\n",
      "\n",
      "Usuário:  nsahurrea\n",
      "Texto:  @Aguiarthur ❤️\n",
      "-----\n",
      "\n",
      "\n",
      "Usuário:  dreamgalleon\n",
      "Texto:  @neymarjr oi ney, tem 200 conto ai no pix pra patrocinar um teclado?\n",
      "-----\n",
      "\n",
      "\n",
      "Usuário:  TicianeeDeus\n",
      "Texto:  @ahickmann bom dia querida! Vc conseguiria ajudar aqui uma mãe aflita e angustiada passando por algumas dificuldade… https://t.co/3cggq3VubX\n",
      "-----\n",
      "\n",
      "\n",
      "Usuário:  luanismylight\n",
      "Texto:  @Aguiarthur Chegueeeei adm. ❤️ #TutysDay\n",
      "-----\n",
      "\n",
      "\n",
      "Usuário:  Bernard68373041\n",
      "Texto:  @Aguiarthur Tem começo? #tutysday \n",
      "🦁🦁🦁 https://t.co/yEyid9bmEd\n",
      "URL:  http://pbs.twimg.com/media/FM7lMELXwAc9f1k.jpg\n",
      "['Arthur Aguiar', 'Arthur Aguiar', 'Arthur Aguiar', 'Arthur Aguiar', 'Arthur Aguiar']\n",
      "Descrição:  Arthur Aguiar, Arthur Aguiar, Arthur Aguiar, Arthur Aguiar, Arthur Aguiar et al. are posing for a picture\n",
      "Tags:  ['human face', 'boy', 'person', 'collage', 'clothing', 'smile', 'man', 'photomontage']\n",
      "-----\n",
      "\n",
      "\n",
      "Usuário:  FlaPaixaao\n",
      "Texto:  RT @Aguiarthur: Voz e violão, Arthur cantando \"saudade\" 🤍 https://t.co/OGZqEyAb8A\n",
      "URL:  http://pbs.twimg.com/ext_tw_video_thumb/1499239802964692995/pu/img/JPjLEO7mfB8S168r.jpg\n",
      "[]\n",
      "Descrição:  a person sitting on a couch\n",
      "Tags:  ['human face', 'person', 'screenshot', 'clothing', 'black hair', 'woman', 'indoor']\n",
      "-----\n",
      "\n",
      "\n",
      "Usuário:  natthan_gomyz\n",
      "Texto:  RT @Anitta: .@LennyTavarezTM Que Vamo’ Hacer? Mañana 6pm EST 🛏️😈 https://t.co/7AU3LB1q4P\n",
      "URL:  http://pbs.twimg.com/ext_tw_video_thumb/1499179292210733056/pu/img/Gc_CuwroldVKO3L9.jpg\n",
      "[]\n",
      "Descrição:  a glass of wine\n",
      "Tags:  ['bottle', 'still life photography', 'red', 'indoor', 'still life', 'candle', 'glass']\n",
      "-----\n",
      "\n",
      "\n",
      "Usuário:  larigfr\n",
      "Texto:  RT @Aguiarthur: “Imagina se o Turrá ganha a prova do líder no dia do aniversário dele” PROFETIZA DG\n",
      "-----\n",
      "\n",
      "\n",
      "Usuário:  mariasnnts\n",
      "Texto:  @cleo KAKAKAKAKA\n",
      "-----\n",
      "\n",
      "\n",
      "Usuário:  Rafaela39939816\n",
      "Texto:  RT @Aguiarthur: ✨🏁 https://t.co/zxPVj0I4QO\n",
      "URL:  http://pbs.twimg.com/media/FM597lDWUAoLYrP.jpg\n",
      "[]\n",
      "Descrição:  a man and woman in a pool\n",
      "Tags:  ['human face', 'sport', 'person', 'water', 'swimming pool', 'swimming', 'bathing', 'outdoor']\n",
      "-----\n",
      "\n",
      "\n"
     ]
    },
    {
     "ename": "KeyboardInterrupt",
     "evalue": "",
     "output_type": "error",
     "traceback": [
      "\u001b[1;31m---------------------------------------------------------------------------\u001b[0m",
      "\u001b[1;31mKeyboardInterrupt\u001b[0m                         Traceback (most recent call last)",
      "\u001b[1;32mc:\\Users\\Bruno\\Desktop\\vscode\\vscode\\Formação Machine Learning Avançada\\10. Reconhecimento de imagens - Twitter e Computer Vision API\\twitter-python.ipynb Cell 46'\u001b[0m in \u001b[0;36m<module>\u001b[1;34m\u001b[0m\n\u001b[1;32m----> <a href='vscode-notebook-cell:/c%3A/Users/Bruno/Desktop/vscode/vscode/Forma%C3%A7%C3%A3o%20Machine%20Learning%20Avan%C3%A7ada/10.%20Reconhecimento%20de%20imagens%20-%20Twitter%20e%20Computer%20Vision%20API/twitter-python.ipynb#ch0000050?line=0'>1</a>\u001b[0m minhaStream\u001b[39m.\u001b[39;49mfilter(follow\u001b[39m=\u001b[39;49mfamosos_id)\n",
      "File \u001b[1;32m~\\Anaconda3\\envs\\machine_learning\\lib\\site-packages\\tweepy\\streaming.py:343\u001b[0m, in \u001b[0;36mStream.filter\u001b[1;34m(self, follow, track, locations, filter_level, languages, stall_warnings, threaded)\u001b[0m\n\u001b[0;32m    <a href='file:///~/Anaconda3/envs/machine_learning/lib/site-packages/tweepy/streaming.py?line=339'>340</a>\u001b[0m     \u001b[39mreturn\u001b[39;00m \u001b[39mself\u001b[39m\u001b[39m.\u001b[39m_threaded_connect(method, endpoint, headers\u001b[39m=\u001b[39mheaders,\n\u001b[0;32m    <a href='file:///~/Anaconda3/envs/machine_learning/lib/site-packages/tweepy/streaming.py?line=340'>341</a>\u001b[0m                                   body\u001b[39m=\u001b[39mbody)\n\u001b[0;32m    <a href='file:///~/Anaconda3/envs/machine_learning/lib/site-packages/tweepy/streaming.py?line=341'>342</a>\u001b[0m \u001b[39melse\u001b[39;00m:\n\u001b[1;32m--> <a href='file:///~/Anaconda3/envs/machine_learning/lib/site-packages/tweepy/streaming.py?line=342'>343</a>\u001b[0m     \u001b[39mself\u001b[39;49m\u001b[39m.\u001b[39;49m_connect(method, endpoint, headers\u001b[39m=\u001b[39;49mheaders, body\u001b[39m=\u001b[39;49mbody)\n",
      "File \u001b[1;32m~\\Anaconda3\\envs\\machine_learning\\lib\\site-packages\\tweepy\\streaming.py:261\u001b[0m, in \u001b[0;36mStream._connect\u001b[1;34m(self, method, endpoint, **kwargs)\u001b[0m\n\u001b[0;32m    <a href='file:///~/Anaconda3/envs/machine_learning/lib/site-packages/tweepy/streaming.py?line=257'>258</a>\u001b[0m auth \u001b[39m=\u001b[39m OAuth1(\u001b[39mself\u001b[39m\u001b[39m.\u001b[39mconsumer_key, \u001b[39mself\u001b[39m\u001b[39m.\u001b[39mconsumer_secret,\n\u001b[0;32m    <a href='file:///~/Anaconda3/envs/machine_learning/lib/site-packages/tweepy/streaming.py?line=258'>259</a>\u001b[0m               \u001b[39mself\u001b[39m\u001b[39m.\u001b[39maccess_token, \u001b[39mself\u001b[39m\u001b[39m.\u001b[39maccess_token_secret)\n\u001b[0;32m    <a href='file:///~/Anaconda3/envs/machine_learning/lib/site-packages/tweepy/streaming.py?line=259'>260</a>\u001b[0m url \u001b[39m=\u001b[39m \u001b[39mf\u001b[39m\u001b[39m\"\u001b[39m\u001b[39mhttps://stream.twitter.com/1.1/\u001b[39m\u001b[39m{\u001b[39;00mendpoint\u001b[39m}\u001b[39;00m\u001b[39m.json\u001b[39m\u001b[39m\"\u001b[39m\n\u001b[1;32m--> <a href='file:///~/Anaconda3/envs/machine_learning/lib/site-packages/tweepy/streaming.py?line=260'>261</a>\u001b[0m \u001b[39msuper\u001b[39;49m()\u001b[39m.\u001b[39;49m_connect(method, url, auth\u001b[39m=\u001b[39;49mauth, \u001b[39m*\u001b[39;49m\u001b[39m*\u001b[39;49mkwargs)\n",
      "File \u001b[1;32m~\\Anaconda3\\envs\\machine_learning\\lib\\site-packages\\tweepy\\streaming.py:87\u001b[0m, in \u001b[0;36mBaseStream._connect\u001b[1;34m(self, method, url, auth, params, headers, body)\u001b[0m\n\u001b[0;32m     <a href='file:///~/Anaconda3/envs/machine_learning/lib/site-packages/tweepy/streaming.py?line=83'>84</a>\u001b[0m \u001b[39mif\u001b[39;00m \u001b[39mnot\u001b[39;00m \u001b[39mself\u001b[39m\u001b[39m.\u001b[39mrunning:\n\u001b[0;32m     <a href='file:///~/Anaconda3/envs/machine_learning/lib/site-packages/tweepy/streaming.py?line=84'>85</a>\u001b[0m     \u001b[39mbreak\u001b[39;00m\n\u001b[1;32m---> <a href='file:///~/Anaconda3/envs/machine_learning/lib/site-packages/tweepy/streaming.py?line=86'>87</a>\u001b[0m \u001b[39mfor\u001b[39;00m line \u001b[39min\u001b[39;00m resp\u001b[39m.\u001b[39miter_lines(\n\u001b[0;32m     <a href='file:///~/Anaconda3/envs/machine_learning/lib/site-packages/tweepy/streaming.py?line=87'>88</a>\u001b[0m     chunk_size\u001b[39m=\u001b[39m\u001b[39mself\u001b[39m\u001b[39m.\u001b[39mchunk_size\n\u001b[0;32m     <a href='file:///~/Anaconda3/envs/machine_learning/lib/site-packages/tweepy/streaming.py?line=88'>89</a>\u001b[0m ):\n\u001b[0;32m     <a href='file:///~/Anaconda3/envs/machine_learning/lib/site-packages/tweepy/streaming.py?line=89'>90</a>\u001b[0m     \u001b[39mif\u001b[39;00m line:\n\u001b[0;32m     <a href='file:///~/Anaconda3/envs/machine_learning/lib/site-packages/tweepy/streaming.py?line=90'>91</a>\u001b[0m         \u001b[39mself\u001b[39m\u001b[39m.\u001b[39mon_data(line)\n",
      "File \u001b[1;32m~\\Anaconda3\\envs\\machine_learning\\lib\\site-packages\\requests\\models.py:804\u001b[0m, in \u001b[0;36mResponse.iter_lines\u001b[1;34m(self, chunk_size, decode_unicode, delimiter)\u001b[0m\n\u001b[0;32m    <a href='file:///~/Anaconda3/envs/machine_learning/lib/site-packages/requests/models.py?line=794'>795</a>\u001b[0m \u001b[39m\"\"\"Iterates over the response data, one line at a time.  When\u001b[39;00m\n\u001b[0;32m    <a href='file:///~/Anaconda3/envs/machine_learning/lib/site-packages/requests/models.py?line=795'>796</a>\u001b[0m \u001b[39mstream=True is set on the request, this avoids reading the\u001b[39;00m\n\u001b[0;32m    <a href='file:///~/Anaconda3/envs/machine_learning/lib/site-packages/requests/models.py?line=796'>797</a>\u001b[0m \u001b[39mcontent at once into memory for large responses.\u001b[39;00m\n\u001b[0;32m    <a href='file:///~/Anaconda3/envs/machine_learning/lib/site-packages/requests/models.py?line=797'>798</a>\u001b[0m \n\u001b[0;32m    <a href='file:///~/Anaconda3/envs/machine_learning/lib/site-packages/requests/models.py?line=798'>799</a>\u001b[0m \u001b[39m.. note:: This method is not reentrant safe.\u001b[39;00m\n\u001b[0;32m    <a href='file:///~/Anaconda3/envs/machine_learning/lib/site-packages/requests/models.py?line=799'>800</a>\u001b[0m \u001b[39m\"\"\"\u001b[39;00m\n\u001b[0;32m    <a href='file:///~/Anaconda3/envs/machine_learning/lib/site-packages/requests/models.py?line=801'>802</a>\u001b[0m pending \u001b[39m=\u001b[39m \u001b[39mNone\u001b[39;00m\n\u001b[1;32m--> <a href='file:///~/Anaconda3/envs/machine_learning/lib/site-packages/requests/models.py?line=803'>804</a>\u001b[0m \u001b[39mfor\u001b[39;00m chunk \u001b[39min\u001b[39;00m \u001b[39mself\u001b[39m\u001b[39m.\u001b[39miter_content(chunk_size\u001b[39m=\u001b[39mchunk_size, decode_unicode\u001b[39m=\u001b[39mdecode_unicode):\n\u001b[0;32m    <a href='file:///~/Anaconda3/envs/machine_learning/lib/site-packages/requests/models.py?line=805'>806</a>\u001b[0m     \u001b[39mif\u001b[39;00m pending \u001b[39mis\u001b[39;00m \u001b[39mnot\u001b[39;00m \u001b[39mNone\u001b[39;00m:\n\u001b[0;32m    <a href='file:///~/Anaconda3/envs/machine_learning/lib/site-packages/requests/models.py?line=806'>807</a>\u001b[0m         chunk \u001b[39m=\u001b[39m pending \u001b[39m+\u001b[39m chunk\n",
      "File \u001b[1;32m~\\Anaconda3\\envs\\machine_learning\\lib\\site-packages\\requests\\models.py:760\u001b[0m, in \u001b[0;36mResponse.iter_content.<locals>.generate\u001b[1;34m()\u001b[0m\n\u001b[0;32m    <a href='file:///~/Anaconda3/envs/machine_learning/lib/site-packages/requests/models.py?line=757'>758</a>\u001b[0m \u001b[39mif\u001b[39;00m \u001b[39mhasattr\u001b[39m(\u001b[39mself\u001b[39m\u001b[39m.\u001b[39mraw, \u001b[39m'\u001b[39m\u001b[39mstream\u001b[39m\u001b[39m'\u001b[39m):\n\u001b[0;32m    <a href='file:///~/Anaconda3/envs/machine_learning/lib/site-packages/requests/models.py?line=758'>759</a>\u001b[0m     \u001b[39mtry\u001b[39;00m:\n\u001b[1;32m--> <a href='file:///~/Anaconda3/envs/machine_learning/lib/site-packages/requests/models.py?line=759'>760</a>\u001b[0m         \u001b[39mfor\u001b[39;00m chunk \u001b[39min\u001b[39;00m \u001b[39mself\u001b[39m\u001b[39m.\u001b[39mraw\u001b[39m.\u001b[39mstream(chunk_size, decode_content\u001b[39m=\u001b[39m\u001b[39mTrue\u001b[39;00m):\n\u001b[0;32m    <a href='file:///~/Anaconda3/envs/machine_learning/lib/site-packages/requests/models.py?line=760'>761</a>\u001b[0m             \u001b[39myield\u001b[39;00m chunk\n\u001b[0;32m    <a href='file:///~/Anaconda3/envs/machine_learning/lib/site-packages/requests/models.py?line=761'>762</a>\u001b[0m     \u001b[39mexcept\u001b[39;00m ProtocolError \u001b[39mas\u001b[39;00m e:\n",
      "File \u001b[1;32m~\\Anaconda3\\envs\\machine_learning\\lib\\site-packages\\urllib3\\response.py:572\u001b[0m, in \u001b[0;36mHTTPResponse.stream\u001b[1;34m(self, amt, decode_content)\u001b[0m\n\u001b[0;32m    <a href='file:///~/Anaconda3/envs/machine_learning/lib/site-packages/urllib3/response.py?line=555'>556</a>\u001b[0m \u001b[39m\"\"\"\u001b[39;00m\n\u001b[0;32m    <a href='file:///~/Anaconda3/envs/machine_learning/lib/site-packages/urllib3/response.py?line=556'>557</a>\u001b[0m \u001b[39mA generator wrapper for the read() method. A call will block until\u001b[39;00m\n\u001b[0;32m    <a href='file:///~/Anaconda3/envs/machine_learning/lib/site-packages/urllib3/response.py?line=557'>558</a>\u001b[0m \u001b[39m``amt`` bytes have been read from the connection or until the\u001b[39;00m\n\u001b[1;32m   (...)\u001b[0m\n\u001b[0;32m    <a href='file:///~/Anaconda3/envs/machine_learning/lib/site-packages/urllib3/response.py?line=568'>569</a>\u001b[0m \u001b[39m    'content-encoding' header.\u001b[39;00m\n\u001b[0;32m    <a href='file:///~/Anaconda3/envs/machine_learning/lib/site-packages/urllib3/response.py?line=569'>570</a>\u001b[0m \u001b[39m\"\"\"\u001b[39;00m\n\u001b[0;32m    <a href='file:///~/Anaconda3/envs/machine_learning/lib/site-packages/urllib3/response.py?line=570'>571</a>\u001b[0m \u001b[39mif\u001b[39;00m \u001b[39mself\u001b[39m\u001b[39m.\u001b[39mchunked \u001b[39mand\u001b[39;00m \u001b[39mself\u001b[39m\u001b[39m.\u001b[39msupports_chunked_reads():\n\u001b[1;32m--> <a href='file:///~/Anaconda3/envs/machine_learning/lib/site-packages/urllib3/response.py?line=571'>572</a>\u001b[0m     \u001b[39mfor\u001b[39;00m line \u001b[39min\u001b[39;00m \u001b[39mself\u001b[39m\u001b[39m.\u001b[39mread_chunked(amt, decode_content\u001b[39m=\u001b[39mdecode_content):\n\u001b[0;32m    <a href='file:///~/Anaconda3/envs/machine_learning/lib/site-packages/urllib3/response.py?line=572'>573</a>\u001b[0m         \u001b[39myield\u001b[39;00m line\n\u001b[0;32m    <a href='file:///~/Anaconda3/envs/machine_learning/lib/site-packages/urllib3/response.py?line=573'>574</a>\u001b[0m \u001b[39melse\u001b[39;00m:\n",
      "File \u001b[1;32m~\\Anaconda3\\envs\\machine_learning\\lib\\site-packages\\urllib3\\response.py:764\u001b[0m, in \u001b[0;36mHTTPResponse.read_chunked\u001b[1;34m(self, amt, decode_content)\u001b[0m\n\u001b[0;32m    <a href='file:///~/Anaconda3/envs/machine_learning/lib/site-packages/urllib3/response.py?line=760'>761</a>\u001b[0m     \u001b[39mreturn\u001b[39;00m\n\u001b[0;32m    <a href='file:///~/Anaconda3/envs/machine_learning/lib/site-packages/urllib3/response.py?line=762'>763</a>\u001b[0m \u001b[39mwhile\u001b[39;00m \u001b[39mTrue\u001b[39;00m:\n\u001b[1;32m--> <a href='file:///~/Anaconda3/envs/machine_learning/lib/site-packages/urllib3/response.py?line=763'>764</a>\u001b[0m     \u001b[39mself\u001b[39;49m\u001b[39m.\u001b[39;49m_update_chunk_length()\n\u001b[0;32m    <a href='file:///~/Anaconda3/envs/machine_learning/lib/site-packages/urllib3/response.py?line=764'>765</a>\u001b[0m     \u001b[39mif\u001b[39;00m \u001b[39mself\u001b[39m\u001b[39m.\u001b[39mchunk_left \u001b[39m==\u001b[39m \u001b[39m0\u001b[39m:\n\u001b[0;32m    <a href='file:///~/Anaconda3/envs/machine_learning/lib/site-packages/urllib3/response.py?line=765'>766</a>\u001b[0m         \u001b[39mbreak\u001b[39;00m\n",
      "File \u001b[1;32m~\\Anaconda3\\envs\\machine_learning\\lib\\site-packages\\urllib3\\response.py:694\u001b[0m, in \u001b[0;36mHTTPResponse._update_chunk_length\u001b[1;34m(self)\u001b[0m\n\u001b[0;32m    <a href='file:///~/Anaconda3/envs/machine_learning/lib/site-packages/urllib3/response.py?line=691'>692</a>\u001b[0m \u001b[39mif\u001b[39;00m \u001b[39mself\u001b[39m\u001b[39m.\u001b[39mchunk_left \u001b[39mis\u001b[39;00m \u001b[39mnot\u001b[39;00m \u001b[39mNone\u001b[39;00m:\n\u001b[0;32m    <a href='file:///~/Anaconda3/envs/machine_learning/lib/site-packages/urllib3/response.py?line=692'>693</a>\u001b[0m     \u001b[39mreturn\u001b[39;00m\n\u001b[1;32m--> <a href='file:///~/Anaconda3/envs/machine_learning/lib/site-packages/urllib3/response.py?line=693'>694</a>\u001b[0m line \u001b[39m=\u001b[39m \u001b[39mself\u001b[39;49m\u001b[39m.\u001b[39;49m_fp\u001b[39m.\u001b[39;49mfp\u001b[39m.\u001b[39;49mreadline()\n\u001b[0;32m    <a href='file:///~/Anaconda3/envs/machine_learning/lib/site-packages/urllib3/response.py?line=694'>695</a>\u001b[0m line \u001b[39m=\u001b[39m line\u001b[39m.\u001b[39msplit(\u001b[39mb\u001b[39m\u001b[39m\"\u001b[39m\u001b[39m;\u001b[39m\u001b[39m\"\u001b[39m, \u001b[39m1\u001b[39m)[\u001b[39m0\u001b[39m]\n\u001b[0;32m    <a href='file:///~/Anaconda3/envs/machine_learning/lib/site-packages/urllib3/response.py?line=695'>696</a>\u001b[0m \u001b[39mtry\u001b[39;00m:\n",
      "File \u001b[1;32m~\\Anaconda3\\envs\\machine_learning\\lib\\socket.py:669\u001b[0m, in \u001b[0;36mSocketIO.readinto\u001b[1;34m(self, b)\u001b[0m\n\u001b[0;32m    <a href='file:///~/Anaconda3/envs/machine_learning/lib/socket.py?line=666'>667</a>\u001b[0m \u001b[39mwhile\u001b[39;00m \u001b[39mTrue\u001b[39;00m:\n\u001b[0;32m    <a href='file:///~/Anaconda3/envs/machine_learning/lib/socket.py?line=667'>668</a>\u001b[0m     \u001b[39mtry\u001b[39;00m:\n\u001b[1;32m--> <a href='file:///~/Anaconda3/envs/machine_learning/lib/socket.py?line=668'>669</a>\u001b[0m         \u001b[39mreturn\u001b[39;00m \u001b[39mself\u001b[39;49m\u001b[39m.\u001b[39;49m_sock\u001b[39m.\u001b[39;49mrecv_into(b)\n\u001b[0;32m    <a href='file:///~/Anaconda3/envs/machine_learning/lib/socket.py?line=669'>670</a>\u001b[0m     \u001b[39mexcept\u001b[39;00m timeout:\n\u001b[0;32m    <a href='file:///~/Anaconda3/envs/machine_learning/lib/socket.py?line=670'>671</a>\u001b[0m         \u001b[39mself\u001b[39m\u001b[39m.\u001b[39m_timeout_occurred \u001b[39m=\u001b[39m \u001b[39mTrue\u001b[39;00m\n",
      "File \u001b[1;32m~\\Anaconda3\\envs\\machine_learning\\lib\\ssl.py:1241\u001b[0m, in \u001b[0;36mSSLSocket.recv_into\u001b[1;34m(self, buffer, nbytes, flags)\u001b[0m\n\u001b[0;32m   <a href='file:///~/Anaconda3/envs/machine_learning/lib/ssl.py?line=1236'>1237</a>\u001b[0m     \u001b[39mif\u001b[39;00m flags \u001b[39m!=\u001b[39m \u001b[39m0\u001b[39m:\n\u001b[0;32m   <a href='file:///~/Anaconda3/envs/machine_learning/lib/ssl.py?line=1237'>1238</a>\u001b[0m         \u001b[39mraise\u001b[39;00m \u001b[39mValueError\u001b[39;00m(\n\u001b[0;32m   <a href='file:///~/Anaconda3/envs/machine_learning/lib/ssl.py?line=1238'>1239</a>\u001b[0m           \u001b[39m\"\u001b[39m\u001b[39mnon-zero flags not allowed in calls to recv_into() on \u001b[39m\u001b[39m%s\u001b[39;00m\u001b[39m\"\u001b[39m \u001b[39m%\u001b[39m\n\u001b[0;32m   <a href='file:///~/Anaconda3/envs/machine_learning/lib/ssl.py?line=1239'>1240</a>\u001b[0m           \u001b[39mself\u001b[39m\u001b[39m.\u001b[39m\u001b[39m__class__\u001b[39m)\n\u001b[1;32m-> <a href='file:///~/Anaconda3/envs/machine_learning/lib/ssl.py?line=1240'>1241</a>\u001b[0m     \u001b[39mreturn\u001b[39;00m \u001b[39mself\u001b[39;49m\u001b[39m.\u001b[39;49mread(nbytes, buffer)\n\u001b[0;32m   <a href='file:///~/Anaconda3/envs/machine_learning/lib/ssl.py?line=1241'>1242</a>\u001b[0m \u001b[39melse\u001b[39;00m:\n\u001b[0;32m   <a href='file:///~/Anaconda3/envs/machine_learning/lib/ssl.py?line=1242'>1243</a>\u001b[0m     \u001b[39mreturn\u001b[39;00m \u001b[39msuper\u001b[39m()\u001b[39m.\u001b[39mrecv_into(buffer, nbytes, flags)\n",
      "File \u001b[1;32m~\\Anaconda3\\envs\\machine_learning\\lib\\ssl.py:1099\u001b[0m, in \u001b[0;36mSSLSocket.read\u001b[1;34m(self, len, buffer)\u001b[0m\n\u001b[0;32m   <a href='file:///~/Anaconda3/envs/machine_learning/lib/ssl.py?line=1096'>1097</a>\u001b[0m \u001b[39mtry\u001b[39;00m:\n\u001b[0;32m   <a href='file:///~/Anaconda3/envs/machine_learning/lib/ssl.py?line=1097'>1098</a>\u001b[0m     \u001b[39mif\u001b[39;00m buffer \u001b[39mis\u001b[39;00m \u001b[39mnot\u001b[39;00m \u001b[39mNone\u001b[39;00m:\n\u001b[1;32m-> <a href='file:///~/Anaconda3/envs/machine_learning/lib/ssl.py?line=1098'>1099</a>\u001b[0m         \u001b[39mreturn\u001b[39;00m \u001b[39mself\u001b[39;49m\u001b[39m.\u001b[39;49m_sslobj\u001b[39m.\u001b[39;49mread(\u001b[39mlen\u001b[39;49m, buffer)\n\u001b[0;32m   <a href='file:///~/Anaconda3/envs/machine_learning/lib/ssl.py?line=1099'>1100</a>\u001b[0m     \u001b[39melse\u001b[39;00m:\n\u001b[0;32m   <a href='file:///~/Anaconda3/envs/machine_learning/lib/ssl.py?line=1100'>1101</a>\u001b[0m         \u001b[39mreturn\u001b[39;00m \u001b[39mself\u001b[39m\u001b[39m.\u001b[39m_sslobj\u001b[39m.\u001b[39mread(\u001b[39mlen\u001b[39m)\n",
      "\u001b[1;31mKeyboardInterrupt\u001b[0m: "
     ]
    }
   ],
   "source": [
    "minhaStream.filter(follow=famosos_id)\n"
   ]
  },
  {
   "cell_type": "markdown",
   "metadata": {},
   "source": [
    "### Avaliando resultados"
   ]
  },
  {
   "cell_type": "code",
   "execution_count": 60,
   "metadata": {},
   "outputs": [],
   "source": [
    "lista_arquivo = []\n",
    "\n",
    "with open('tweets.txt', 'r') as arquivo:\n",
    "    for linha in arquivo:\n",
    "        lista_arquivo.append(json.loads(linha))"
   ]
  },
  {
   "cell_type": "code",
   "execution_count": 63,
   "metadata": {},
   "outputs": [
    {
     "data": {
      "text/plain": [
       "{'usuario': 'llorenab_',\n",
       " 'texto': 'RT @thutinatica: Feliz aniversário, meu menino! #TutysDay https://t.co/kNkYC77FDM',\n",
       " 'url': 'http://pbs.twimg.com/media/FM5j_CVX0AMcRLx.jpg',\n",
       " 'celebridades': ['Arthur Aguiar',\n",
       "  'Arthur Aguiar',\n",
       "  'Arthur Aguiar',\n",
       "  'Arthur Aguiar',\n",
       "  'Arthur Aguiar'],\n",
       " 'descricao': 'Arthur Aguiar, Arthur Aguiar, Arthur Aguiar, Arthur Aguiar, Arthur Aguiar et al. are posing for a picture',\n",
       " 'tags': ['human face',\n",
       "  'boy',\n",
       "  'person',\n",
       "  'collage',\n",
       "  'clothing',\n",
       "  'smile',\n",
       "  'man',\n",
       "  'photomontage']}"
      ]
     },
     "execution_count": 63,
     "metadata": {},
     "output_type": "execute_result"
    }
   ],
   "source": [
    "lista_arquivo[1]"
   ]
  },
  {
   "cell_type": "code",
   "execution_count": 64,
   "metadata": {},
   "outputs": [
    {
     "data": {
      "text/html": [
       "<div>\n",
       "<style scoped>\n",
       "    .dataframe tbody tr th:only-of-type {\n",
       "        vertical-align: middle;\n",
       "    }\n",
       "\n",
       "    .dataframe tbody tr th {\n",
       "        vertical-align: top;\n",
       "    }\n",
       "\n",
       "    .dataframe thead th {\n",
       "        text-align: right;\n",
       "    }\n",
       "</style>\n",
       "<table border=\"1\" class=\"dataframe\">\n",
       "  <thead>\n",
       "    <tr style=\"text-align: right;\">\n",
       "      <th></th>\n",
       "      <th>usuario</th>\n",
       "      <th>texto</th>\n",
       "      <th>url</th>\n",
       "      <th>celebridades</th>\n",
       "      <th>descricao</th>\n",
       "      <th>tags</th>\n",
       "    </tr>\n",
       "  </thead>\n",
       "  <tbody>\n",
       "    <tr>\n",
       "      <th>0</th>\n",
       "      <td>dablio_1324</td>\n",
       "      <td>RT @Aguiarthur: EU AMO QUANDO ELES CANTAM SOLU...</td>\n",
       "      <td>http://pbs.twimg.com/ext_tw_video_thumb/149921...</td>\n",
       "      <td>[]</td>\n",
       "      <td>a person playing guitar next to a person singi...</td>\n",
       "      <td>[person, clothing, human face, man, concert, m...</td>\n",
       "    </tr>\n",
       "    <tr>\n",
       "      <th>1</th>\n",
       "      <td>llorenab_</td>\n",
       "      <td>RT @thutinatica: Feliz aniversário, meu menino...</td>\n",
       "      <td>http://pbs.twimg.com/media/FM5j_CVX0AMcRLx.jpg</td>\n",
       "      <td>[Arthur Aguiar, Arthur Aguiar, Arthur Aguiar, ...</td>\n",
       "      <td>Arthur Aguiar, Arthur Aguiar, Arthur Aguiar, A...</td>\n",
       "      <td>[human face, boy, person, collage, clothing, s...</td>\n",
       "    </tr>\n",
       "    <tr>\n",
       "      <th>2</th>\n",
       "      <td>juuulp07</td>\n",
       "      <td>RT @Aguiarthur: ARTHUR CANTANDO PROJOTA AAAAAA...</td>\n",
       "      <td>http://pbs.twimg.com/ext_tw_video_thumb/149921...</td>\n",
       "      <td>[]</td>\n",
       "      <td>a group of people on a stage</td>\n",
       "      <td>[clothing, person, footwear, woman, screenshot...</td>\n",
       "    </tr>\n",
       "    <tr>\n",
       "      <th>3</th>\n",
       "      <td>phmrss</td>\n",
       "      <td>@Aguiarthur Amou adm? https://t.co/YLa1F40v75</td>\n",
       "      <td>http://pbs.twimg.com/media/FM7lD3YWQA4HzVX.jpg</td>\n",
       "      <td>[]</td>\n",
       "      <td>graphical user interface, text, application</td>\n",
       "      <td>[text, human face, screenshot, man]</td>\n",
       "    </tr>\n",
       "    <tr>\n",
       "      <th>4</th>\n",
       "      <td>littlebadliar02</td>\n",
       "      <td>RT @Aguiarthur: FELIZ ANIVERSÁRIO ARTHUR! 🥳 #T...</td>\n",
       "      <td>http://pbs.twimg.com/media/FM5LSQfXEAYoXA8.jpg</td>\n",
       "      <td>[]</td>\n",
       "      <td>a person with dark hair</td>\n",
       "      <td>[human face, person, portrait, eyebrow, boy, n...</td>\n",
       "    </tr>\n",
       "    <tr>\n",
       "      <th>5</th>\n",
       "      <td>ariellyteresaa</td>\n",
       "      <td>RT @Aguiarthur: FELIZ ANIVERSÁRIO ARTHUR! 🥳 #T...</td>\n",
       "      <td>http://pbs.twimg.com/media/FM5LSQfXEAYoXA8.jpg</td>\n",
       "      <td>[]</td>\n",
       "      <td>a person with dark hair</td>\n",
       "      <td>[human face, person, portrait, eyebrow, boy, n...</td>\n",
       "    </tr>\n",
       "    <tr>\n",
       "      <th>6</th>\n",
       "      <td>Bernard68373041</td>\n",
       "      <td>@Aguiarthur Tem começo? #tutysday \\n🦁🦁🦁 https:...</td>\n",
       "      <td>http://pbs.twimg.com/media/FM7lMELXwAc9f1k.jpg</td>\n",
       "      <td>[Arthur Aguiar, Arthur Aguiar, Arthur Aguiar, ...</td>\n",
       "      <td>Arthur Aguiar, Arthur Aguiar, Arthur Aguiar, A...</td>\n",
       "      <td>[human face, boy, person, collage, clothing, s...</td>\n",
       "    </tr>\n",
       "    <tr>\n",
       "      <th>7</th>\n",
       "      <td>FlaPaixaao</td>\n",
       "      <td>RT @Aguiarthur: Voz e violão, Arthur cantando ...</td>\n",
       "      <td>http://pbs.twimg.com/ext_tw_video_thumb/149923...</td>\n",
       "      <td>[]</td>\n",
       "      <td>a person sitting on a couch</td>\n",
       "      <td>[human face, person, screenshot, clothing, bla...</td>\n",
       "    </tr>\n",
       "    <tr>\n",
       "      <th>8</th>\n",
       "      <td>natthan_gomyz</td>\n",
       "      <td>RT @Anitta: .@LennyTavarezTM Que Vamo’ Hacer? ...</td>\n",
       "      <td>http://pbs.twimg.com/ext_tw_video_thumb/149917...</td>\n",
       "      <td>[]</td>\n",
       "      <td>a glass of wine</td>\n",
       "      <td>[bottle, still life photography, red, indoor, ...</td>\n",
       "    </tr>\n",
       "    <tr>\n",
       "      <th>9</th>\n",
       "      <td>Rafaela39939816</td>\n",
       "      <td>RT @Aguiarthur: ✨🏁 https://t.co/zxPVj0I4QO</td>\n",
       "      <td>http://pbs.twimg.com/media/FM597lDWUAoLYrP.jpg</td>\n",
       "      <td>[]</td>\n",
       "      <td>a man and woman in a pool</td>\n",
       "      <td>[human face, sport, person, water, swimming po...</td>\n",
       "    </tr>\n",
       "  </tbody>\n",
       "</table>\n",
       "</div>"
      ],
      "text/plain": [
       "           usuario                                              texto  \\\n",
       "0      dablio_1324  RT @Aguiarthur: EU AMO QUANDO ELES CANTAM SOLU...   \n",
       "1        llorenab_  RT @thutinatica: Feliz aniversário, meu menino...   \n",
       "2         juuulp07  RT @Aguiarthur: ARTHUR CANTANDO PROJOTA AAAAAA...   \n",
       "3           phmrss      @Aguiarthur Amou adm? https://t.co/YLa1F40v75   \n",
       "4  littlebadliar02  RT @Aguiarthur: FELIZ ANIVERSÁRIO ARTHUR! 🥳 #T...   \n",
       "5   ariellyteresaa  RT @Aguiarthur: FELIZ ANIVERSÁRIO ARTHUR! 🥳 #T...   \n",
       "6  Bernard68373041  @Aguiarthur Tem começo? #tutysday \\n🦁🦁🦁 https:...   \n",
       "7       FlaPaixaao  RT @Aguiarthur: Voz e violão, Arthur cantando ...   \n",
       "8    natthan_gomyz  RT @Anitta: .@LennyTavarezTM Que Vamo’ Hacer? ...   \n",
       "9  Rafaela39939816         RT @Aguiarthur: ✨🏁 https://t.co/zxPVj0I4QO   \n",
       "\n",
       "                                                 url  \\\n",
       "0  http://pbs.twimg.com/ext_tw_video_thumb/149921...   \n",
       "1     http://pbs.twimg.com/media/FM5j_CVX0AMcRLx.jpg   \n",
       "2  http://pbs.twimg.com/ext_tw_video_thumb/149921...   \n",
       "3     http://pbs.twimg.com/media/FM7lD3YWQA4HzVX.jpg   \n",
       "4     http://pbs.twimg.com/media/FM5LSQfXEAYoXA8.jpg   \n",
       "5     http://pbs.twimg.com/media/FM5LSQfXEAYoXA8.jpg   \n",
       "6     http://pbs.twimg.com/media/FM7lMELXwAc9f1k.jpg   \n",
       "7  http://pbs.twimg.com/ext_tw_video_thumb/149923...   \n",
       "8  http://pbs.twimg.com/ext_tw_video_thumb/149917...   \n",
       "9     http://pbs.twimg.com/media/FM597lDWUAoLYrP.jpg   \n",
       "\n",
       "                                        celebridades  \\\n",
       "0                                                 []   \n",
       "1  [Arthur Aguiar, Arthur Aguiar, Arthur Aguiar, ...   \n",
       "2                                                 []   \n",
       "3                                                 []   \n",
       "4                                                 []   \n",
       "5                                                 []   \n",
       "6  [Arthur Aguiar, Arthur Aguiar, Arthur Aguiar, ...   \n",
       "7                                                 []   \n",
       "8                                                 []   \n",
       "9                                                 []   \n",
       "\n",
       "                                           descricao  \\\n",
       "0  a person playing guitar next to a person singi...   \n",
       "1  Arthur Aguiar, Arthur Aguiar, Arthur Aguiar, A...   \n",
       "2                       a group of people on a stage   \n",
       "3        graphical user interface, text, application   \n",
       "4                            a person with dark hair   \n",
       "5                            a person with dark hair   \n",
       "6  Arthur Aguiar, Arthur Aguiar, Arthur Aguiar, A...   \n",
       "7                        a person sitting on a couch   \n",
       "8                                    a glass of wine   \n",
       "9                          a man and woman in a pool   \n",
       "\n",
       "                                                tags  \n",
       "0  [person, clothing, human face, man, concert, m...  \n",
       "1  [human face, boy, person, collage, clothing, s...  \n",
       "2  [clothing, person, footwear, woman, screenshot...  \n",
       "3                [text, human face, screenshot, man]  \n",
       "4  [human face, person, portrait, eyebrow, boy, n...  \n",
       "5  [human face, person, portrait, eyebrow, boy, n...  \n",
       "6  [human face, boy, person, collage, clothing, s...  \n",
       "7  [human face, person, screenshot, clothing, bla...  \n",
       "8  [bottle, still life photography, red, indoor, ...  \n",
       "9  [human face, sport, person, water, swimming po...  "
      ]
     },
     "execution_count": 64,
     "metadata": {},
     "output_type": "execute_result"
    }
   ],
   "source": [
    "import pandas as pd\n",
    "\n",
    "imagens = pd.DataFrame(lista_arquivo)\n",
    "imagens"
   ]
  },
  {
   "cell_type": "code",
   "execution_count": 69,
   "metadata": {},
   "outputs": [
    {
     "data": {
      "text/plain": [
       "'a person playing guitar next to a person singing into a microphone'"
      ]
     },
     "execution_count": 69,
     "metadata": {},
     "output_type": "execute_result"
    }
   ],
   "source": [
    "pesquisa = 'concert'\n",
    "\n",
    "selecao = [(pesquisa in lista) for lista in imagens.tags]\n",
    "imagens[selecao].descricao.iloc[0]"
   ]
  },
  {
   "cell_type": "code",
   "execution_count": 70,
   "metadata": {},
   "outputs": [
    {
     "data": {
      "text/plain": [
       "'http://pbs.twimg.com/ext_tw_video_thumb/1499214870440554496/pu/img/i2zCjlgpwpAhrEaB.jpg'"
      ]
     },
     "execution_count": 70,
     "metadata": {},
     "output_type": "execute_result"
    }
   ],
   "source": [
    "imagens[selecao].url.iloc[0]"
   ]
  },
  {
   "cell_type": "markdown",
   "metadata": {},
   "source": [
    "## Termina aqui"
   ]
  }
 ],
 "metadata": {
  "interpreter": {
   "hash": "5920b5758d452ea2be3c84d3b52789bc04ee682949a6b0870d7691434146c726"
  },
  "kernelspec": {
   "display_name": "Python 3.8.12 ('machine_learning')",
   "language": "python",
   "name": "python3"
  },
  "language_info": {
   "codemirror_mode": {
    "name": "ipython",
    "version": 3
   },
   "file_extension": ".py",
   "mimetype": "text/x-python",
   "name": "python",
   "nbconvert_exporter": "python",
   "pygments_lexer": "ipython3",
   "version": "3.8.12"
  },
  "orig_nbformat": 4
 },
 "nbformat": 4,
 "nbformat_minor": 2
}
